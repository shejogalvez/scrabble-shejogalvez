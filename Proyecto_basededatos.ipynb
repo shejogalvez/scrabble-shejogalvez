{
  "nbformat": 4,
  "nbformat_minor": 0,
  "metadata": {
    "colab": {
      "provenance": [],
      "toc_visible": true,
      "include_colab_link": true
    },
    "kernelspec": {
      "display_name": "Python 3",
      "name": "python3"
    }
  },
  "cells": [
    {
      "cell_type": "markdown",
      "metadata": {
        "id": "view-in-github",
        "colab_type": "text"
      },
      "source": [
        "<a href=\"https://colab.research.google.com/github/shejogalvez/scrabble-shejogalvez/blob/main/Proyecto_basededatos.ipynb\" target=\"_parent\"><img src=\"https://colab.research.google.com/assets/colab-badge.svg\" alt=\"Open In Colab\"/></a>"
      ]
    },
    {
      "cell_type": "markdown",
      "metadata": {
        "id": "4Sly5Tw9_f2p"
      },
      "source": [
        "# SQL y Descarga de los CSV"
      ]
    },
    {
      "cell_type": "code",
      "metadata": {
        "colab": {
          "base_uri": "https://localhost:8080/"
        },
        "id": "5UFRE5B6gQ2C",
        "outputId": "742b00ee-4c3f-4476-c067-3342951f73e7"
      },
      "source": [
        "# install\n",
        "!apt update\n",
        "!apt install postgresql postgresql-contrib &>log\n",
        "!service postgresql start\n",
        "!sudo -u postgres psql -c \"CREATE USER root WITH SUPERUSER\"\n",
        "# set connection\n",
        "%load_ext sql\n",
        "%config SqlMagic.feedback=False \n",
        "%config SqlMagic.autopandas=True\n",
        "%sql postgresql+psycopg2://@/postgres\n",
        "%sql create user cc3201 with superuser\n",
        "!wget https://www.dropbox.com/s/baj6l0x61lg97x5/plays.csv\n",
        "!wget https://www.dropbox.com/s/l0a44lb3fbb3ime/records.csv\n",
        "!wget https://www.dropbox.com/s/1t176ra9saizrkk/players.csv\n",
        "!wget https://www.dropbox.com/s/cim4qbcy0pjq9vr/likes.csv\n",
        "!wget https://www.dropbox.com/s/0q3awvbjtuj4uv9/courses.csv\n",
        "!wget https://www.dropbox.com/s/t2andtinktjlvsf/course-meta.csv\n",
        "!wget https://www.dropbox.com/s/zymiq8fyqdn4tyw/clears.csv"
      ],
      "execution_count": null,
      "outputs": [
        {
          "output_type": "stream",
          "text": [
            "\u001b[33m\r0% [Working]\u001b[0m\r            \rGet:1 http://security.ubuntu.com/ubuntu bionic-security InRelease [88.7 kB]\n",
            "\u001b[33m\r0% [Connecting to archive.ubuntu.com] [1 InRelease 14.2 kB/88.7 kB 16%] [Connec\u001b[0m\r                                                                               \rGet:2 https://cloud.r-project.org/bin/linux/ubuntu bionic-cran40/ InRelease [3,626 B]\n",
            "Ign:3 https://developer.download.nvidia.com/compute/cuda/repos/ubuntu1804/x86_64  InRelease\n",
            "Get:4 http://ppa.launchpad.net/c2d4u.team/c2d4u4.0+/ubuntu bionic InRelease [15.9 kB]\n",
            "Ign:5 https://developer.download.nvidia.com/compute/machine-learning/repos/ubuntu1804/x86_64  InRelease\n",
            "Hit:6 https://developer.download.nvidia.com/compute/cuda/repos/ubuntu1804/x86_64  Release\n",
            "Get:7 https://developer.download.nvidia.com/compute/machine-learning/repos/ubuntu1804/x86_64  Release [564 B]\n",
            "Get:8 https://developer.download.nvidia.com/compute/machine-learning/repos/ubuntu1804/x86_64  Release.gpg [833 B]\n",
            "Hit:9 http://archive.ubuntu.com/ubuntu bionic InRelease\n",
            "Get:10 http://archive.ubuntu.com/ubuntu bionic-updates InRelease [88.7 kB]\n",
            "Hit:11 http://ppa.launchpad.net/cran/libgit2/ubuntu bionic InRelease\n",
            "Get:12 https://cloud.r-project.org/bin/linux/ubuntu bionic-cran40/ Packages [43.2 kB]\n",
            "Get:13 http://ppa.launchpad.net/graphics-drivers/ppa/ubuntu bionic InRelease [21.3 kB]\n",
            "Get:14 http://security.ubuntu.com/ubuntu bionic-security/main amd64 Packages [1,872 kB]\n",
            "Get:15 http://archive.ubuntu.com/ubuntu bionic-backports InRelease [74.6 kB]\n",
            "Get:16 http://security.ubuntu.com/ubuntu bionic-security/universe amd64 Packages [1,376 kB]\n",
            "Get:18 http://security.ubuntu.com/ubuntu bionic-security/restricted amd64 Packages [278 kB]\n",
            "Get:19 https://developer.download.nvidia.com/compute/machine-learning/repos/ubuntu1804/x86_64  Packages [66.5 kB]\n",
            "Get:20 http://ppa.launchpad.net/c2d4u.team/c2d4u4.0+/ubuntu bionic/main Sources [1,707 kB]\n",
            "Get:21 http://archive.ubuntu.com/ubuntu bionic-updates/universe amd64 Packages [2,140 kB]\n",
            "Get:22 http://ppa.launchpad.net/c2d4u.team/c2d4u4.0+/ubuntu bionic/main amd64 Packages [874 kB]\n",
            "Get:23 http://archive.ubuntu.com/ubuntu bionic-updates/main amd64 Packages [2,298 kB]\n",
            "Get:24 http://archive.ubuntu.com/ubuntu bionic-updates/multiverse amd64 Packages [45.6 kB]\n",
            "Get:25 http://archive.ubuntu.com/ubuntu bionic-updates/restricted amd64 Packages [304 kB]\n",
            "Get:26 http://ppa.launchpad.net/graphics-drivers/ppa/ubuntu bionic/main amd64 Packages [49.2 kB]\n",
            "Fetched 11.3 MB in 4s (3,171 kB/s)\n",
            "Reading package lists... Done\n",
            "Building dependency tree       \n",
            "Reading state information... Done\n",
            "43 packages can be upgraded. Run 'apt list --upgradable' to see them.\n",
            " * Starting PostgreSQL 10 database server\n",
            "   ...done.\n",
            "CREATE ROLE\n"
          ],
          "name": "stdout"
        },
        {
          "output_type": "stream",
          "text": [
            "/usr/local/lib/python3.6/dist-packages/psycopg2/__init__.py:144: UserWarning: The psycopg2 wheel package will be renamed from release 2.8; in order to keep installing from binary please use \"pip install psycopg2-binary\" instead. For details see: <http://initd.org/psycopg/docs/install.html#binary-install-from-pypi>.\n",
            "  \"\"\")\n"
          ],
          "name": "stderr"
        },
        {
          "output_type": "stream",
          "text": [
            " * postgresql+psycopg2://@/postgres\n",
            "--2021-01-13 00:54:13--  https://www.dropbox.com/s/baj6l0x61lg97x5/plays.csv\n",
            "Resolving www.dropbox.com (www.dropbox.com)... 162.125.3.18, 2620:100:6018:18::a27d:312\n",
            "Connecting to www.dropbox.com (www.dropbox.com)|162.125.3.18|:443... connected.\n",
            "HTTP request sent, awaiting response... 301 Moved Permanently\n",
            "Location: /s/raw/baj6l0x61lg97x5/plays.csv [following]\n",
            "--2021-01-13 00:54:13--  https://www.dropbox.com/s/raw/baj6l0x61lg97x5/plays.csv\n",
            "Reusing existing connection to www.dropbox.com:443.\n",
            "HTTP request sent, awaiting response... 302 Found\n",
            "Location: https://ucf65609904418d060c51cb80a53.dl.dropboxusercontent.com/cd/0/inline/BG5ouAVZcb6r3LzvRr_iyva3uPmHce4sR33c2ULBFiX7ha60N8iWFiz-JvXI5Wehm39pWx4R4b3UQJoTbep1Fo3Fkaob-Wl9g-H5tjWM7xAXWRW9LuQayisWB7VbsxlwTLQ/file# [following]\n",
            "--2021-01-13 00:54:14--  https://ucf65609904418d060c51cb80a53.dl.dropboxusercontent.com/cd/0/inline/BG5ouAVZcb6r3LzvRr_iyva3uPmHce4sR33c2ULBFiX7ha60N8iWFiz-JvXI5Wehm39pWx4R4b3UQJoTbep1Fo3Fkaob-Wl9g-H5tjWM7xAXWRW9LuQayisWB7VbsxlwTLQ/file\n",
            "Resolving ucf65609904418d060c51cb80a53.dl.dropboxusercontent.com (ucf65609904418d060c51cb80a53.dl.dropboxusercontent.com)... 162.125.3.15, 2620:100:601b:15::a27d:80f\n",
            "Connecting to ucf65609904418d060c51cb80a53.dl.dropboxusercontent.com (ucf65609904418d060c51cb80a53.dl.dropboxusercontent.com)|162.125.3.15|:443... connected.\n",
            "HTTP request sent, awaiting response... 200 OK\n",
            "Length: 216802876 (207M) [text/plain]\n",
            "Saving to: ‘plays.csv’\n",
            "\n",
            "plays.csv           100%[===================>] 206.76M  63.7MB/s    in 3.2s    \n",
            "\n",
            "2021-01-13 00:54:18 (63.7 MB/s) - ‘plays.csv’ saved [216802876/216802876]\n",
            "\n",
            "--2021-01-13 00:54:18--  https://www.dropbox.com/s/l0a44lb3fbb3ime/records.csv\n",
            "Resolving www.dropbox.com (www.dropbox.com)... 162.125.3.18, 2620:100:6018:18::a27d:312\n",
            "Connecting to www.dropbox.com (www.dropbox.com)|162.125.3.18|:443... connected.\n",
            "HTTP request sent, awaiting response... 301 Moved Permanently\n",
            "Location: /s/raw/l0a44lb3fbb3ime/records.csv [following]\n",
            "--2021-01-13 00:54:18--  https://www.dropbox.com/s/raw/l0a44lb3fbb3ime/records.csv\n",
            "Reusing existing connection to www.dropbox.com:443.\n",
            "HTTP request sent, awaiting response... 302 Found\n",
            "Location: https://ucf8298b16af34748ea545efe373.dl.dropboxusercontent.com/cd/0/inline/BG4Nw63zsggh5OBbMv6vam6xvzGGzjlFyJNDPs1zGm7Bz_oADttWdPKY07v_Q4VlIkMx4Rqhkp2-KEYCcohd7Mve1Tnj8LPdKG4LrtCsvlunVUx2K380FU7SC9VwuklQXoI/file# [following]\n",
            "--2021-01-13 00:54:18--  https://ucf8298b16af34748ea545efe373.dl.dropboxusercontent.com/cd/0/inline/BG4Nw63zsggh5OBbMv6vam6xvzGGzjlFyJNDPs1zGm7Bz_oADttWdPKY07v_Q4VlIkMx4Rqhkp2-KEYCcohd7Mve1Tnj8LPdKG4LrtCsvlunVUx2K380FU7SC9VwuklQXoI/file\n",
            "Resolving ucf8298b16af34748ea545efe373.dl.dropboxusercontent.com (ucf8298b16af34748ea545efe373.dl.dropboxusercontent.com)... 162.125.3.15, 2620:100:6018:15::a27d:30f\n",
            "Connecting to ucf8298b16af34748ea545efe373.dl.dropboxusercontent.com (ucf8298b16af34748ea545efe373.dl.dropboxusercontent.com)|162.125.3.15|:443... connected.\n",
            "HTTP request sent, awaiting response... 200 OK\n",
            "Length: 7109289 (6.8M) [text/plain]\n",
            "Saving to: ‘records.csv’\n",
            "\n",
            "records.csv         100%[===================>]   6.78M  40.4MB/s    in 0.2s    \n",
            "\n",
            "2021-01-13 00:54:19 (40.4 MB/s) - ‘records.csv’ saved [7109289/7109289]\n",
            "\n",
            "--2021-01-13 00:54:19--  https://www.dropbox.com/s/1t176ra9saizrkk/players.csv\n",
            "Resolving www.dropbox.com (www.dropbox.com)... 162.125.3.18, 2620:100:6018:18::a27d:312\n",
            "Connecting to www.dropbox.com (www.dropbox.com)|162.125.3.18|:443... connected.\n",
            "HTTP request sent, awaiting response... 301 Moved Permanently\n",
            "Location: /s/raw/1t176ra9saizrkk/players.csv [following]\n",
            "--2021-01-13 00:54:19--  https://www.dropbox.com/s/raw/1t176ra9saizrkk/players.csv\n",
            "Reusing existing connection to www.dropbox.com:443.\n",
            "HTTP request sent, awaiting response... 302 Found\n",
            "Location: https://ucd7962e3abf6e149b46fbefc365.dl.dropboxusercontent.com/cd/0/inline/BG4rafDwgOnovZozQzasMU5Ce6TsgIq6foMsjvAVjpSr5uBi22EZABZyidjBraBrO3_Jk0as-qdFBnMZMplAU0u61vWrfcmBCoje8CxBDsoBLBjEQvcMeMF45lOvNvaglZ4/file# [following]\n",
            "--2021-01-13 00:54:20--  https://ucd7962e3abf6e149b46fbefc365.dl.dropboxusercontent.com/cd/0/inline/BG4rafDwgOnovZozQzasMU5Ce6TsgIq6foMsjvAVjpSr5uBi22EZABZyidjBraBrO3_Jk0as-qdFBnMZMplAU0u61vWrfcmBCoje8CxBDsoBLBjEQvcMeMF45lOvNvaglZ4/file\n",
            "Resolving ucd7962e3abf6e149b46fbefc365.dl.dropboxusercontent.com (ucd7962e3abf6e149b46fbefc365.dl.dropboxusercontent.com)... 162.125.3.15, 2620:100:601b:15::a27d:80f\n",
            "Connecting to ucd7962e3abf6e149b46fbefc365.dl.dropboxusercontent.com (ucd7962e3abf6e149b46fbefc365.dl.dropboxusercontent.com)|162.125.3.15|:443... connected.\n",
            "HTTP request sent, awaiting response... 200 OK\n",
            "Length: 77593369 (74M) [text/plain]\n",
            "Saving to: ‘players.csv’\n",
            "\n",
            "players.csv         100%[===================>]  74.00M  67.8MB/s    in 1.1s    \n",
            "\n",
            "2021-01-13 00:54:21 (67.8 MB/s) - ‘players.csv’ saved [77593369/77593369]\n",
            "\n",
            "--2021-01-13 00:54:22--  https://www.dropbox.com/s/cim4qbcy0pjq9vr/likes.csv\n",
            "Resolving www.dropbox.com (www.dropbox.com)... 162.125.3.18, 2620:100:6018:18::a27d:312\n",
            "Connecting to www.dropbox.com (www.dropbox.com)|162.125.3.18|:443... connected.\n",
            "HTTP request sent, awaiting response... 301 Moved Permanently\n",
            "Location: /s/raw/cim4qbcy0pjq9vr/likes.csv [following]\n",
            "--2021-01-13 00:54:22--  https://www.dropbox.com/s/raw/cim4qbcy0pjq9vr/likes.csv\n",
            "Reusing existing connection to www.dropbox.com:443.\n",
            "HTTP request sent, awaiting response... 302 Found\n",
            "Location: https://uc5a0339d75d7717827b04a69a27.dl.dropboxusercontent.com/cd/0/inline/BG77EAO67RAxOEXd6jlgqw3uyauIIcMpGTUg7DSRJOlXrxg1ZNA7UFAKJ2oQz8D0ZhocELM8bbBBVolKVj7msfM7qhuhHoevoTU3NDgQwSr7joeEweDDsnlTqS3m2axPcw8/file# [following]\n",
            "--2021-01-13 00:54:22--  https://uc5a0339d75d7717827b04a69a27.dl.dropboxusercontent.com/cd/0/inline/BG77EAO67RAxOEXd6jlgqw3uyauIIcMpGTUg7DSRJOlXrxg1ZNA7UFAKJ2oQz8D0ZhocELM8bbBBVolKVj7msfM7qhuhHoevoTU3NDgQwSr7joeEweDDsnlTqS3m2axPcw8/file\n",
            "Resolving uc5a0339d75d7717827b04a69a27.dl.dropboxusercontent.com (uc5a0339d75d7717827b04a69a27.dl.dropboxusercontent.com)... 162.125.3.15, 2620:100:601b:15::a27d:80f\n",
            "Connecting to uc5a0339d75d7717827b04a69a27.dl.dropboxusercontent.com (uc5a0339d75d7717827b04a69a27.dl.dropboxusercontent.com)|162.125.3.15|:443... connected.\n",
            "HTTP request sent, awaiting response... 200 OK\n",
            "Length: 34034409 (32M) [text/plain]\n",
            "Saving to: ‘likes.csv’\n",
            "\n",
            "likes.csv           100%[===================>]  32.46M  65.3MB/s    in 0.5s    \n",
            "\n",
            "2021-01-13 00:54:23 (65.3 MB/s) - ‘likes.csv’ saved [34034409/34034409]\n",
            "\n",
            "--2021-01-13 00:54:23--  https://www.dropbox.com/s/0q3awvbjtuj4uv9/courses.csv\n",
            "Resolving www.dropbox.com (www.dropbox.com)... 162.125.3.18, 2620:100:601b:18::a27d:812\n",
            "Connecting to www.dropbox.com (www.dropbox.com)|162.125.3.18|:443... connected.\n",
            "HTTP request sent, awaiting response... 301 Moved Permanently\n",
            "Location: /s/raw/0q3awvbjtuj4uv9/courses.csv [following]\n",
            "--2021-01-13 00:54:24--  https://www.dropbox.com/s/raw/0q3awvbjtuj4uv9/courses.csv\n",
            "Reusing existing connection to www.dropbox.com:443.\n",
            "HTTP request sent, awaiting response... 302 Found\n",
            "Location: https://uc22975e39b7a165fe85fe9c8dfc.dl.dropboxusercontent.com/cd/0/inline/BG5XGA7jpXQsghM_g97mIia82ticZZOmEOtc9Q4Um3SL_g-jExQg8lfGTFAnHZGWwl0uKEjLDNKklX5ecVcE_eYKPMdW3jGbRsDB4vJsiPhqeuoYbv0f7hjaMBmqWko3b2c/file# [following]\n",
            "--2021-01-13 00:54:24--  https://uc22975e39b7a165fe85fe9c8dfc.dl.dropboxusercontent.com/cd/0/inline/BG5XGA7jpXQsghM_g97mIia82ticZZOmEOtc9Q4Um3SL_g-jExQg8lfGTFAnHZGWwl0uKEjLDNKklX5ecVcE_eYKPMdW3jGbRsDB4vJsiPhqeuoYbv0f7hjaMBmqWko3b2c/file\n",
            "Resolving uc22975e39b7a165fe85fe9c8dfc.dl.dropboxusercontent.com (uc22975e39b7a165fe85fe9c8dfc.dl.dropboxusercontent.com)... 162.125.5.15, 2620:100:601b:15::a27d:80f\n",
            "Connecting to uc22975e39b7a165fe85fe9c8dfc.dl.dropboxusercontent.com (uc22975e39b7a165fe85fe9c8dfc.dl.dropboxusercontent.com)|162.125.5.15|:443... connected.\n",
            "HTTP request sent, awaiting response... 200 OK\n",
            "Length: 24569113 (23M) [text/plain]\n",
            "Saving to: ‘courses.csv’\n",
            "\n",
            "courses.csv         100%[===================>]  23.43M  34.4MB/s    in 0.7s    \n",
            "\n",
            "2021-01-13 00:54:26 (34.4 MB/s) - ‘courses.csv’ saved [24569113/24569113]\n",
            "\n",
            "--2021-01-13 00:54:26--  https://www.dropbox.com/s/t2andtinktjlvsf/course-meta.csv\n",
            "Resolving www.dropbox.com (www.dropbox.com)... 162.125.3.18, 2620:100:601b:18::a27d:812\n",
            "Connecting to www.dropbox.com (www.dropbox.com)|162.125.3.18|:443... connected.\n",
            "HTTP request sent, awaiting response... 301 Moved Permanently\n",
            "Location: /s/raw/t2andtinktjlvsf/course-meta.csv [following]\n",
            "--2021-01-13 00:54:26--  https://www.dropbox.com/s/raw/t2andtinktjlvsf/course-meta.csv\n",
            "Reusing existing connection to www.dropbox.com:443.\n",
            "HTTP request sent, awaiting response... 302 Found\n",
            "Location: https://uc1bb16f3b5332da4b3e7a8a81d3.dl.dropboxusercontent.com/cd/0/inline/BG75NdPLiLmps-P1MNOqTnqI9XzGqgnd0rZO_LhonQEfDgBxObdrE7Ghqt8qiQ4i1FJ_N_vV8dSgAC9Xa8czfjeU3VX82-S-OoUOLDa9H92BGt9pVQH9_VZB3CBUx0ns_4U/file# [following]\n",
            "--2021-01-13 00:54:27--  https://uc1bb16f3b5332da4b3e7a8a81d3.dl.dropboxusercontent.com/cd/0/inline/BG75NdPLiLmps-P1MNOqTnqI9XzGqgnd0rZO_LhonQEfDgBxObdrE7Ghqt8qiQ4i1FJ_N_vV8dSgAC9Xa8czfjeU3VX82-S-OoUOLDa9H92BGt9pVQH9_VZB3CBUx0ns_4U/file\n",
            "Resolving uc1bb16f3b5332da4b3e7a8a81d3.dl.dropboxusercontent.com (uc1bb16f3b5332da4b3e7a8a81d3.dl.dropboxusercontent.com)... 162.125.3.15, 2620:100:601b:15::a27d:80f\n",
            "Connecting to uc1bb16f3b5332da4b3e7a8a81d3.dl.dropboxusercontent.com (uc1bb16f3b5332da4b3e7a8a81d3.dl.dropboxusercontent.com)|162.125.3.15|:443... connected.\n",
            "HTTP request sent, awaiting response... 200 OK\n",
            "Length: 22273585 (21M) [text/plain]\n",
            "Saving to: ‘course-meta.csv’\n",
            "\n",
            "course-meta.csv     100%[===================>]  21.24M  66.7MB/s    in 0.3s    \n",
            "\n",
            "2021-01-13 00:54:28 (66.7 MB/s) - ‘course-meta.csv’ saved [22273585/22273585]\n",
            "\n",
            "--2021-01-13 00:54:28--  https://www.dropbox.com/s/zymiq8fyqdn4tyw/clears.csv\n",
            "Resolving www.dropbox.com (www.dropbox.com)... 162.125.3.18, 2620:100:6018:18::a27d:312\n",
            "Connecting to www.dropbox.com (www.dropbox.com)|162.125.3.18|:443... connected.\n",
            "HTTP request sent, awaiting response... 301 Moved Permanently\n",
            "Location: /s/raw/zymiq8fyqdn4tyw/clears.csv [following]\n",
            "--2021-01-13 00:54:28--  https://www.dropbox.com/s/raw/zymiq8fyqdn4tyw/clears.csv\n",
            "Reusing existing connection to www.dropbox.com:443.\n",
            "HTTP request sent, awaiting response... 302 Found\n",
            "Location: https://uc9b82c4d1d78bede3c1f26ae349.dl.dropboxusercontent.com/cd/0/inline/BG4vo5z8A2eFtc-gmIT4Ylqr9kWZr2gK4FMm0-zCq5cCTcmIhif6LyWGFQMoiBS0AI5jSvFYZjhWGRXQ10MU_jIi3iCRRMdihesmqvKAvstssyQGwxZ3Du2hBuPCL8kGFOU/file# [following]\n",
            "--2021-01-13 00:54:28--  https://uc9b82c4d1d78bede3c1f26ae349.dl.dropboxusercontent.com/cd/0/inline/BG4vo5z8A2eFtc-gmIT4Ylqr9kWZr2gK4FMm0-zCq5cCTcmIhif6LyWGFQMoiBS0AI5jSvFYZjhWGRXQ10MU_jIi3iCRRMdihesmqvKAvstssyQGwxZ3Du2hBuPCL8kGFOU/file\n",
            "Resolving uc9b82c4d1d78bede3c1f26ae349.dl.dropboxusercontent.com (uc9b82c4d1d78bede3c1f26ae349.dl.dropboxusercontent.com)... 162.125.3.15, 2620:100:6018:15::a27d:30f\n",
            "Connecting to uc9b82c4d1d78bede3c1f26ae349.dl.dropboxusercontent.com (uc9b82c4d1d78bede3c1f26ae349.dl.dropboxusercontent.com)|162.125.3.15|:443... connected.\n",
            "HTTP request sent, awaiting response... 200 OK\n",
            "Length: 112834679 (108M) [text/plain]\n",
            "Saving to: ‘clears.csv’\n",
            "\n",
            "clears.csv          100%[===================>] 107.61M  83.3MB/s    in 1.3s    \n",
            "\n",
            "2021-01-13 00:54:30 (83.3 MB/s) - ‘clears.csv’ saved [112834679/112834679]\n",
            "\n"
          ],
          "name": "stdout"
        }
      ]
    },
    {
      "cell_type": "markdown",
      "metadata": {
        "id": "PTyFDp3av2d-"
      },
      "source": [
        "# Creación de tabla y carga de datos "
      ]
    },
    {
      "cell_type": "code",
      "metadata": {
        "colab": {
          "base_uri": "https://localhost:8080/",
          "height": 49
        },
        "id": "iM_LV58Pmt9W",
        "outputId": "6e30597c-5876-4171-de92-59e75cc15f97"
      },
      "source": [
        "%%sql\n",
        "DROP TABLE IF EXISTS players;\n",
        "Create Table players(\n",
        "    id varchar(50),\n",
        "    image varchar(255),\n",
        "    flag varchar(2),\n",
        "    name varchar(50),\n",
        "    Primary Key(id)\n",
        ");"
      ],
      "execution_count": null,
      "outputs": [
        {
          "output_type": "stream",
          "text": [
            " * postgresql+psycopg2://@/postgres\n"
          ],
          "name": "stdout"
        },
        {
          "output_type": "execute_result",
          "data": {
            "text/html": [
              "<div>\n",
              "<style scoped>\n",
              "    .dataframe tbody tr th:only-of-type {\n",
              "        vertical-align: middle;\n",
              "    }\n",
              "\n",
              "    .dataframe tbody tr th {\n",
              "        vertical-align: top;\n",
              "    }\n",
              "\n",
              "    .dataframe thead th {\n",
              "        text-align: right;\n",
              "    }\n",
              "</style>\n",
              "<table border=\"1\" class=\"dataframe\">\n",
              "  <thead>\n",
              "    <tr style=\"text-align: right;\">\n",
              "      <th></th>\n",
              "    </tr>\n",
              "  </thead>\n",
              "  <tbody>\n",
              "  </tbody>\n",
              "</table>\n",
              "</div>"
            ],
            "text/plain": [
              "Empty DataFrame\n",
              "Columns: []\n",
              "Index: []"
            ]
          },
          "metadata": {
            "tags": []
          },
          "execution_count": 2
        }
      ]
    },
    {
      "cell_type": "code",
      "metadata": {
        "colab": {
          "base_uri": "https://localhost:8080/",
          "height": 49
        },
        "id": "6PEvi2nPyKzf",
        "outputId": "1622372d-3069-4abf-8660-f97f70e469fe"
      },
      "source": [
        "%%sql\n",
        "COPY players(id, image, flag, name)\n",
        "FROM '/content/players.csv'\n",
        "DELIMITER '\t'\n",
        "CSV HEADER;"
      ],
      "execution_count": null,
      "outputs": [
        {
          "output_type": "stream",
          "text": [
            " * postgresql+psycopg2://@/postgres\n"
          ],
          "name": "stdout"
        },
        {
          "output_type": "execute_result",
          "data": {
            "text/html": [
              "<div>\n",
              "<style scoped>\n",
              "    .dataframe tbody tr th:only-of-type {\n",
              "        vertical-align: middle;\n",
              "    }\n",
              "\n",
              "    .dataframe tbody tr th {\n",
              "        vertical-align: top;\n",
              "    }\n",
              "\n",
              "    .dataframe thead th {\n",
              "        text-align: right;\n",
              "    }\n",
              "</style>\n",
              "<table border=\"1\" class=\"dataframe\">\n",
              "  <thead>\n",
              "    <tr style=\"text-align: right;\">\n",
              "      <th></th>\n",
              "    </tr>\n",
              "  </thead>\n",
              "  <tbody>\n",
              "  </tbody>\n",
              "</table>\n",
              "</div>"
            ],
            "text/plain": [
              "Empty DataFrame\n",
              "Columns: []\n",
              "Index: []"
            ]
          },
          "metadata": {
            "tags": []
          },
          "execution_count": 3
        }
      ]
    },
    {
      "cell_type": "code",
      "metadata": {
        "colab": {
          "base_uri": "https://localhost:8080/",
          "height": 49
        },
        "id": "0zPP2smtol_q",
        "outputId": "890d3020-1c06-4990-9b62-674f5757ef3c"
      },
      "source": [
        "%%sql\n",
        "DROP TABLE IF EXISTS courses;\n",
        "Create Table courses(\n",
        "    id varchar(50),\n",
        "    difficulty varchar(50),\n",
        "    gameStyle varchar(50),\n",
        "    maker varchar(50),\n",
        "    title varchar(50),\n",
        "    thumbnail varchar(255),\n",
        "    image varchar(255),\n",
        "    creation varchar(50),\n",
        "    Primary Key(id)\n",
        ");"
      ],
      "execution_count": null,
      "outputs": [
        {
          "output_type": "stream",
          "text": [
            " * postgresql+psycopg2://@/postgres\n"
          ],
          "name": "stdout"
        },
        {
          "output_type": "execute_result",
          "data": {
            "text/html": [
              "<div>\n",
              "<style scoped>\n",
              "    .dataframe tbody tr th:only-of-type {\n",
              "        vertical-align: middle;\n",
              "    }\n",
              "\n",
              "    .dataframe tbody tr th {\n",
              "        vertical-align: top;\n",
              "    }\n",
              "\n",
              "    .dataframe thead th {\n",
              "        text-align: right;\n",
              "    }\n",
              "</style>\n",
              "<table border=\"1\" class=\"dataframe\">\n",
              "  <thead>\n",
              "    <tr style=\"text-align: right;\">\n",
              "      <th></th>\n",
              "    </tr>\n",
              "  </thead>\n",
              "  <tbody>\n",
              "  </tbody>\n",
              "</table>\n",
              "</div>"
            ],
            "text/plain": [
              "Empty DataFrame\n",
              "Columns: []\n",
              "Index: []"
            ]
          },
          "metadata": {
            "tags": []
          },
          "execution_count": 4
        }
      ]
    },
    {
      "cell_type": "code",
      "metadata": {
        "colab": {
          "base_uri": "https://localhost:8080/",
          "height": 49
        },
        "id": "4kfL18m2ZGSC",
        "outputId": "5ab1457c-810e-4385-b0db-cf917dba5da1"
      },
      "source": [
        "%%sql\n",
        "COPY courses(id, difficulty, gameStyle, maker,title,thumbnail,image,creation)\n",
        "FROM '/content/courses.csv'\n",
        "DELIMITER '\t'\n",
        "CSV HEADER;"
      ],
      "execution_count": null,
      "outputs": [
        {
          "output_type": "stream",
          "text": [
            " * postgresql+psycopg2://@/postgres\n"
          ],
          "name": "stdout"
        },
        {
          "output_type": "execute_result",
          "data": {
            "text/html": [
              "<div>\n",
              "<style scoped>\n",
              "    .dataframe tbody tr th:only-of-type {\n",
              "        vertical-align: middle;\n",
              "    }\n",
              "\n",
              "    .dataframe tbody tr th {\n",
              "        vertical-align: top;\n",
              "    }\n",
              "\n",
              "    .dataframe thead th {\n",
              "        text-align: right;\n",
              "    }\n",
              "</style>\n",
              "<table border=\"1\" class=\"dataframe\">\n",
              "  <thead>\n",
              "    <tr style=\"text-align: right;\">\n",
              "      <th></th>\n",
              "    </tr>\n",
              "  </thead>\n",
              "  <tbody>\n",
              "  </tbody>\n",
              "</table>\n",
              "</div>"
            ],
            "text/plain": [
              "Empty DataFrame\n",
              "Columns: []\n",
              "Index: []"
            ]
          },
          "metadata": {
            "tags": []
          },
          "execution_count": 5
        }
      ]
    },
    {
      "cell_type": "code",
      "metadata": {
        "colab": {
          "base_uri": "https://localhost:8080/",
          "height": 49
        },
        "id": "CKj7z5iop7NL",
        "outputId": "1f6954c1-2c9c-4096-c919-4e30d0beb393"
      },
      "source": [
        "%%sql\n",
        "DROP TABLE IF EXISTS coursesMeta;\n",
        "Create Table coursesMeta(\n",
        "    catch varchar(50),\n",
        "    c_id varchar(50),\n",
        "    firstClear varchar(50),\n",
        "    tag varchar(50),\n",
        "    starts int,\n",
        "    players int,\n",
        "    tweets int,\n",
        "    clears int,\n",
        "    attempts real,\n",
        "    clearRate real,\n",
        "    FOREIGN KEY(c_id)\n",
        "    REFERENCES courses(id),\n",
        "    Primary KEY(catch, c_id)\n",
        ");"
      ],
      "execution_count": null,
      "outputs": [
        {
          "output_type": "stream",
          "text": [
            " * postgresql+psycopg2://@/postgres\n"
          ],
          "name": "stdout"
        },
        {
          "output_type": "execute_result",
          "data": {
            "text/html": [
              "<div>\n",
              "<style scoped>\n",
              "    .dataframe tbody tr th:only-of-type {\n",
              "        vertical-align: middle;\n",
              "    }\n",
              "\n",
              "    .dataframe tbody tr th {\n",
              "        vertical-align: top;\n",
              "    }\n",
              "\n",
              "    .dataframe thead th {\n",
              "        text-align: right;\n",
              "    }\n",
              "</style>\n",
              "<table border=\"1\" class=\"dataframe\">\n",
              "  <thead>\n",
              "    <tr style=\"text-align: right;\">\n",
              "      <th></th>\n",
              "    </tr>\n",
              "  </thead>\n",
              "  <tbody>\n",
              "  </tbody>\n",
              "</table>\n",
              "</div>"
            ],
            "text/plain": [
              "Empty DataFrame\n",
              "Columns: []\n",
              "Index: []"
            ]
          },
          "metadata": {
            "tags": []
          },
          "execution_count": 6
        }
      ]
    },
    {
      "cell_type": "code",
      "metadata": {
        "colab": {
          "base_uri": "https://localhost:8080/",
          "height": 49
        },
        "id": "MAL8Qzl6ahHh",
        "outputId": "21bd795e-c61b-4ed4-fc9c-ea011b65ee17"
      },
      "source": [
        "%%sql\n",
        "COPY coursesMeta(catch, c_id, firstClear,tag,starts,players,tweets,clears,attempts, clearRate)\n",
        "FROM '/content/course-meta.csv'\n",
        "DELIMITER '\t'\n",
        "CSV HEADER;"
      ],
      "execution_count": null,
      "outputs": [
        {
          "output_type": "stream",
          "text": [
            " * postgresql+psycopg2://@/postgres\n"
          ],
          "name": "stdout"
        },
        {
          "output_type": "execute_result",
          "data": {
            "text/html": [
              "<div>\n",
              "<style scoped>\n",
              "    .dataframe tbody tr th:only-of-type {\n",
              "        vertical-align: middle;\n",
              "    }\n",
              "\n",
              "    .dataframe tbody tr th {\n",
              "        vertical-align: top;\n",
              "    }\n",
              "\n",
              "    .dataframe thead th {\n",
              "        text-align: right;\n",
              "    }\n",
              "</style>\n",
              "<table border=\"1\" class=\"dataframe\">\n",
              "  <thead>\n",
              "    <tr style=\"text-align: right;\">\n",
              "      <th></th>\n",
              "    </tr>\n",
              "  </thead>\n",
              "  <tbody>\n",
              "  </tbody>\n",
              "</table>\n",
              "</div>"
            ],
            "text/plain": [
              "Empty DataFrame\n",
              "Columns: []\n",
              "Index: []"
            ]
          },
          "metadata": {
            "tags": []
          },
          "execution_count": 7
        }
      ]
    },
    {
      "cell_type": "code",
      "metadata": {
        "colab": {
          "base_uri": "https://localhost:8080/",
          "height": 49
        },
        "id": "UjwlQppThC0d",
        "outputId": "f96b7da4-e9e0-4deb-f213-631dfe064d72"
      },
      "source": [
        "%%sql\n",
        "DROP TABLE IF EXISTS clears;\n",
        "Create Table clears(\n",
        "    catch varchar(50),\n",
        "    c_id varchar(20),\n",
        "    p_id varchar(50),\n",
        "    FOREIGN KEY(c_id)\n",
        "    REFERENCES courses(id),\n",
        "    FOREIGN KEY(p_id)\n",
        "    REFERENCES players(id)  \n",
        ");"
      ],
      "execution_count": null,
      "outputs": [
        {
          "output_type": "stream",
          "text": [
            " * postgresql+psycopg2://@/postgres\n"
          ],
          "name": "stdout"
        },
        {
          "output_type": "execute_result",
          "data": {
            "text/html": [
              "<div>\n",
              "<style scoped>\n",
              "    .dataframe tbody tr th:only-of-type {\n",
              "        vertical-align: middle;\n",
              "    }\n",
              "\n",
              "    .dataframe tbody tr th {\n",
              "        vertical-align: top;\n",
              "    }\n",
              "\n",
              "    .dataframe thead th {\n",
              "        text-align: right;\n",
              "    }\n",
              "</style>\n",
              "<table border=\"1\" class=\"dataframe\">\n",
              "  <thead>\n",
              "    <tr style=\"text-align: right;\">\n",
              "      <th></th>\n",
              "    </tr>\n",
              "  </thead>\n",
              "  <tbody>\n",
              "  </tbody>\n",
              "</table>\n",
              "</div>"
            ],
            "text/plain": [
              "Empty DataFrame\n",
              "Columns: []\n",
              "Index: []"
            ]
          },
          "metadata": {
            "tags": []
          },
          "execution_count": 8
        }
      ]
    },
    {
      "cell_type": "code",
      "metadata": {
        "colab": {
          "base_uri": "https://localhost:8080/",
          "height": 49
        },
        "id": "vX4iWVHNehtx",
        "outputId": "0cc93fb8-ba5f-4f89-d946-bcd6865d8146"
      },
      "source": [
        "%%sql\n",
        "COPY clears(catch, c_id, p_id)\n",
        "FROM '/content/clears.csv'\n",
        "DELIMITER '\t'\n",
        "CSV HEADER;"
      ],
      "execution_count": null,
      "outputs": [
        {
          "output_type": "stream",
          "text": [
            " * postgresql+psycopg2://@/postgres\n"
          ],
          "name": "stdout"
        },
        {
          "output_type": "execute_result",
          "data": {
            "text/html": [
              "<div>\n",
              "<style scoped>\n",
              "    .dataframe tbody tr th:only-of-type {\n",
              "        vertical-align: middle;\n",
              "    }\n",
              "\n",
              "    .dataframe tbody tr th {\n",
              "        vertical-align: top;\n",
              "    }\n",
              "\n",
              "    .dataframe thead th {\n",
              "        text-align: right;\n",
              "    }\n",
              "</style>\n",
              "<table border=\"1\" class=\"dataframe\">\n",
              "  <thead>\n",
              "    <tr style=\"text-align: right;\">\n",
              "      <th></th>\n",
              "    </tr>\n",
              "  </thead>\n",
              "  <tbody>\n",
              "  </tbody>\n",
              "</table>\n",
              "</div>"
            ],
            "text/plain": [
              "Empty DataFrame\n",
              "Columns: []\n",
              "Index: []"
            ]
          },
          "metadata": {
            "tags": []
          },
          "execution_count": 9
        }
      ]
    },
    {
      "cell_type": "code",
      "metadata": {
        "colab": {
          "base_uri": "https://localhost:8080/",
          "height": 49
        },
        "id": "9GKlKWQzsChj",
        "outputId": "fa9a2bfd-d29e-4a2e-c39f-5e3f7af22886"
      },
      "source": [
        "%%sql\n",
        "DROP TABLE IF EXISTS likes;\n",
        "Create Table likes(\n",
        "    catch varchar(50),\n",
        "    c_id varchar(20),\n",
        "    p_id varchar(50),\n",
        "    FOREIGN KEY(c_id)\n",
        "    REFERENCES courses(id),\n",
        "    FOREIGN KEY(p_id)\n",
        "    REFERENCES players(id)      \n",
        ")"
      ],
      "execution_count": null,
      "outputs": [
        {
          "output_type": "stream",
          "text": [
            " * postgresql+psycopg2://@/postgres\n"
          ],
          "name": "stdout"
        },
        {
          "output_type": "execute_result",
          "data": {
            "text/html": [
              "<div>\n",
              "<style scoped>\n",
              "    .dataframe tbody tr th:only-of-type {\n",
              "        vertical-align: middle;\n",
              "    }\n",
              "\n",
              "    .dataframe tbody tr th {\n",
              "        vertical-align: top;\n",
              "    }\n",
              "\n",
              "    .dataframe thead th {\n",
              "        text-align: right;\n",
              "    }\n",
              "</style>\n",
              "<table border=\"1\" class=\"dataframe\">\n",
              "  <thead>\n",
              "    <tr style=\"text-align: right;\">\n",
              "      <th></th>\n",
              "    </tr>\n",
              "  </thead>\n",
              "  <tbody>\n",
              "  </tbody>\n",
              "</table>\n",
              "</div>"
            ],
            "text/plain": [
              "Empty DataFrame\n",
              "Columns: []\n",
              "Index: []"
            ]
          },
          "metadata": {
            "tags": []
          },
          "execution_count": 10
        }
      ]
    },
    {
      "cell_type": "code",
      "metadata": {
        "colab": {
          "base_uri": "https://localhost:8080/",
          "height": 49
        },
        "id": "04woNxnl28RE",
        "outputId": "93cb89a5-6697-42dc-88fb-8b4c287dc2da"
      },
      "source": [
        "%%sql\n",
        "COPY likes(catch, c_id, p_id)\n",
        "FROM '/content/likes.csv'\n",
        "DELIMITER '\t'\n",
        "CSV HEADER;"
      ],
      "execution_count": null,
      "outputs": [
        {
          "output_type": "stream",
          "text": [
            " * postgresql+psycopg2://@/postgres\n"
          ],
          "name": "stdout"
        },
        {
          "output_type": "execute_result",
          "data": {
            "text/html": [
              "<div>\n",
              "<style scoped>\n",
              "    .dataframe tbody tr th:only-of-type {\n",
              "        vertical-align: middle;\n",
              "    }\n",
              "\n",
              "    .dataframe tbody tr th {\n",
              "        vertical-align: top;\n",
              "    }\n",
              "\n",
              "    .dataframe thead th {\n",
              "        text-align: right;\n",
              "    }\n",
              "</style>\n",
              "<table border=\"1\" class=\"dataframe\">\n",
              "  <thead>\n",
              "    <tr style=\"text-align: right;\">\n",
              "      <th></th>\n",
              "    </tr>\n",
              "  </thead>\n",
              "  <tbody>\n",
              "  </tbody>\n",
              "</table>\n",
              "</div>"
            ],
            "text/plain": [
              "Empty DataFrame\n",
              "Columns: []\n",
              "Index: []"
            ]
          },
          "metadata": {
            "tags": []
          },
          "execution_count": 11
        }
      ]
    },
    {
      "cell_type": "code",
      "metadata": {
        "colab": {
          "base_uri": "https://localhost:8080/",
          "height": 49
        },
        "id": "Z-JYPv5PsCtI",
        "outputId": "907df737-54e3-4ec1-8ec8-82e28eb95321"
      },
      "source": [
        "%%sql\n",
        "DROP TABLE IF EXISTS plays;\n",
        "Create Table plays(\n",
        "    catch varchar(50),\n",
        "    c_id varchar(20),\n",
        "    p_id varchar(50),\n",
        "    FOREIGN KEY(c_id)\n",
        "    REFERENCES courses(id),\n",
        "    FOREIGN KEY(p_id)\n",
        "    REFERENCES players(id)        \n",
        ")"
      ],
      "execution_count": null,
      "outputs": [
        {
          "output_type": "stream",
          "text": [
            " * postgresql+psycopg2://@/postgres\n"
          ],
          "name": "stdout"
        },
        {
          "output_type": "execute_result",
          "data": {
            "text/html": [
              "<div>\n",
              "<style scoped>\n",
              "    .dataframe tbody tr th:only-of-type {\n",
              "        vertical-align: middle;\n",
              "    }\n",
              "\n",
              "    .dataframe tbody tr th {\n",
              "        vertical-align: top;\n",
              "    }\n",
              "\n",
              "    .dataframe thead th {\n",
              "        text-align: right;\n",
              "    }\n",
              "</style>\n",
              "<table border=\"1\" class=\"dataframe\">\n",
              "  <thead>\n",
              "    <tr style=\"text-align: right;\">\n",
              "      <th></th>\n",
              "    </tr>\n",
              "  </thead>\n",
              "  <tbody>\n",
              "  </tbody>\n",
              "</table>\n",
              "</div>"
            ],
            "text/plain": [
              "Empty DataFrame\n",
              "Columns: []\n",
              "Index: []"
            ]
          },
          "metadata": {
            "tags": []
          },
          "execution_count": 12
        }
      ]
    },
    {
      "cell_type": "code",
      "metadata": {
        "colab": {
          "base_uri": "https://localhost:8080/",
          "height": 49
        },
        "id": "s_snkEdCfdVD",
        "outputId": "758d8c73-b8bf-43e7-d695-0f8d9663841a"
      },
      "source": [
        "%%sql\n",
        "COPY plays(catch, c_id, p_id)\n",
        "FROM '/content/plays.csv'\n",
        "DELIMITER '\t'\n",
        "CSV HEADER;"
      ],
      "execution_count": null,
      "outputs": [
        {
          "output_type": "stream",
          "text": [
            " * postgresql+psycopg2://@/postgres\n"
          ],
          "name": "stdout"
        },
        {
          "output_type": "execute_result",
          "data": {
            "text/html": [
              "<div>\n",
              "<style scoped>\n",
              "    .dataframe tbody tr th:only-of-type {\n",
              "        vertical-align: middle;\n",
              "    }\n",
              "\n",
              "    .dataframe tbody tr th {\n",
              "        vertical-align: top;\n",
              "    }\n",
              "\n",
              "    .dataframe thead th {\n",
              "        text-align: right;\n",
              "    }\n",
              "</style>\n",
              "<table border=\"1\" class=\"dataframe\">\n",
              "  <thead>\n",
              "    <tr style=\"text-align: right;\">\n",
              "      <th></th>\n",
              "    </tr>\n",
              "  </thead>\n",
              "  <tbody>\n",
              "  </tbody>\n",
              "</table>\n",
              "</div>"
            ],
            "text/plain": [
              "Empty DataFrame\n",
              "Columns: []\n",
              "Index: []"
            ]
          },
          "metadata": {
            "tags": []
          },
          "execution_count": 13
        }
      ]
    },
    {
      "cell_type": "code",
      "metadata": {
        "colab": {
          "base_uri": "https://localhost:8080/",
          "height": 49
        },
        "id": "w5uHcGgOsCzK",
        "outputId": "113c7828-4b48-4a19-bf17-bbff1c4ae55b"
      },
      "source": [
        "%%sql\n",
        "DROP TABLE IF EXISTS records;\n",
        "Create Table records(\n",
        "    catch varchar(50),\n",
        "    c_id varchar(20),\n",
        "    p_id varchar(50),\n",
        "    timeRecord int,\n",
        "    FOREIGN KEY(c_id)\n",
        "    REFERENCES courses(id),\n",
        "    FOREIGN KEY(p_id)\n",
        "    REFERENCES players(id)      \n",
        ")"
      ],
      "execution_count": null,
      "outputs": [
        {
          "output_type": "stream",
          "text": [
            " * postgresql+psycopg2://@/postgres\n"
          ],
          "name": "stdout"
        },
        {
          "output_type": "execute_result",
          "data": {
            "text/html": [
              "<div>\n",
              "<style scoped>\n",
              "    .dataframe tbody tr th:only-of-type {\n",
              "        vertical-align: middle;\n",
              "    }\n",
              "\n",
              "    .dataframe tbody tr th {\n",
              "        vertical-align: top;\n",
              "    }\n",
              "\n",
              "    .dataframe thead th {\n",
              "        text-align: right;\n",
              "    }\n",
              "</style>\n",
              "<table border=\"1\" class=\"dataframe\">\n",
              "  <thead>\n",
              "    <tr style=\"text-align: right;\">\n",
              "      <th></th>\n",
              "    </tr>\n",
              "  </thead>\n",
              "  <tbody>\n",
              "  </tbody>\n",
              "</table>\n",
              "</div>"
            ],
            "text/plain": [
              "Empty DataFrame\n",
              "Columns: []\n",
              "Index: []"
            ]
          },
          "metadata": {
            "tags": []
          },
          "execution_count": 14
        }
      ]
    },
    {
      "cell_type": "code",
      "metadata": {
        "colab": {
          "base_uri": "https://localhost:8080/",
          "height": 49
        },
        "id": "k8r0F7SBfqK1",
        "outputId": "a367f226-bd13-4a8f-d456-e1fa32e3208a"
      },
      "source": [
        "%%sql\n",
        "COPY records(catch, c_id, p_id,timeRecord)\n",
        "FROM '/content/records.csv'\n",
        "DELIMITER '\t'\n",
        "CSV HEADER;"
      ],
      "execution_count": null,
      "outputs": [
        {
          "output_type": "stream",
          "text": [
            " * postgresql+psycopg2://@/postgres\n"
          ],
          "name": "stdout"
        },
        {
          "output_type": "execute_result",
          "data": {
            "text/html": [
              "<div>\n",
              "<style scoped>\n",
              "    .dataframe tbody tr th:only-of-type {\n",
              "        vertical-align: middle;\n",
              "    }\n",
              "\n",
              "    .dataframe tbody tr th {\n",
              "        vertical-align: top;\n",
              "    }\n",
              "\n",
              "    .dataframe thead th {\n",
              "        text-align: right;\n",
              "    }\n",
              "</style>\n",
              "<table border=\"1\" class=\"dataframe\">\n",
              "  <thead>\n",
              "    <tr style=\"text-align: right;\">\n",
              "      <th></th>\n",
              "    </tr>\n",
              "  </thead>\n",
              "  <tbody>\n",
              "  </tbody>\n",
              "</table>\n",
              "</div>"
            ],
            "text/plain": [
              "Empty DataFrame\n",
              "Columns: []\n",
              "Index: []"
            ]
          },
          "metadata": {
            "tags": []
          },
          "execution_count": 15
        }
      ]
    },
    {
      "cell_type": "markdown",
      "metadata": {
        "id": "tvrI-XO2wERA"
      },
      "source": [
        "# Tablas con datos cargados  "
      ]
    },
    {
      "cell_type": "code",
      "metadata": {
        "colab": {
          "base_uri": "https://localhost:8080/",
          "height": 436
        },
        "id": "Uc0HH3_T2k4j",
        "outputId": "149c7bed-2e65-4a7e-a3e6-23e46e51b2b2"
      },
      "source": [
        "%%sql\n",
        "SELECT * FROM players;"
      ],
      "execution_count": null,
      "outputs": [
        {
          "output_type": "stream",
          "text": [
            " * postgresql+psycopg2://@/postgres\n"
          ],
          "name": "stdout"
        },
        {
          "output_type": "execute_result",
          "data": {
            "text/html": [
              "<div>\n",
              "<style scoped>\n",
              "    .dataframe tbody tr th:only-of-type {\n",
              "        vertical-align: middle;\n",
              "    }\n",
              "\n",
              "    .dataframe tbody tr th {\n",
              "        vertical-align: top;\n",
              "    }\n",
              "\n",
              "    .dataframe thead th {\n",
              "        text-align: right;\n",
              "    }\n",
              "</style>\n",
              "<table border=\"1\" class=\"dataframe\">\n",
              "  <thead>\n",
              "    <tr style=\"text-align: right;\">\n",
              "      <th></th>\n",
              "      <th>id</th>\n",
              "      <th>image</th>\n",
              "      <th>flag</th>\n",
              "      <th>name</th>\n",
              "    </tr>\n",
              "  </thead>\n",
              "  <tbody>\n",
              "    <tr>\n",
              "      <th>0</th>\n",
              "      <td>NolramImpro</td>\n",
              "      <td>http://mii-images.cdn.nintendo.net/3nhht3y6sjm...</td>\n",
              "      <td>BR</td>\n",
              "      <td>Nolram</td>\n",
              "    </tr>\n",
              "    <tr>\n",
              "      <th>1</th>\n",
              "      <td>SGK2017</td>\n",
              "      <td>http://mii-images.cdn.nintendo.net/4bxo1rny12r...</td>\n",
              "      <td>JP</td>\n",
              "      <td>しげ</td>\n",
              "    </tr>\n",
              "    <tr>\n",
              "      <th>2</th>\n",
              "      <td>preamstrikbiz0</td>\n",
              "      <td>http://mii-images.cdn.nintendo.net/2i0nphr806h...</td>\n",
              "      <td>US</td>\n",
              "      <td>primo</td>\n",
              "    </tr>\n",
              "    <tr>\n",
              "      <th>3</th>\n",
              "      <td>gotatari</td>\n",
              "      <td>http://mii-images.cdn.nintendo.net/2dvhs41zz7y...</td>\n",
              "      <td>JP</td>\n",
              "      <td>たくと</td>\n",
              "    </tr>\n",
              "    <tr>\n",
              "      <th>4</th>\n",
              "      <td>skrufpanda</td>\n",
              "      <td>http://mii-images.cdn.nintendo.net/2n2gr4n7oxg...</td>\n",
              "      <td>NO</td>\n",
              "      <td>pinkachuz</td>\n",
              "    </tr>\n",
              "    <tr>\n",
              "      <th>...</th>\n",
              "      <td>...</td>\n",
              "      <td>...</td>\n",
              "      <td>...</td>\n",
              "      <td>...</td>\n",
              "    </tr>\n",
              "    <tr>\n",
              "      <th>884297</th>\n",
              "      <td>T.K.K.7</td>\n",
              "      <td>http://mii-images.cdn.nintendo.net/2zzv4vp3tpz...</td>\n",
              "      <td>JP</td>\n",
              "      <td>かほ</td>\n",
              "    </tr>\n",
              "    <tr>\n",
              "      <th>884298</th>\n",
              "      <td>BunnieBucket</td>\n",
              "      <td>http://mii-images.cdn.nintendo.net/2goa0jorldf...</td>\n",
              "      <td>US</td>\n",
              "      <td>NativeLobo</td>\n",
              "    </tr>\n",
              "    <tr>\n",
              "      <th>884299</th>\n",
              "      <td>soldnergeek</td>\n",
              "      <td>http://mii-images.cdn.nintendo.net/3vs0s26mpur...</td>\n",
              "      <td>FR</td>\n",
              "      <td>soldner</td>\n",
              "    </tr>\n",
              "    <tr>\n",
              "      <th>884300</th>\n",
              "      <td>coolantonio1000</td>\n",
              "      <td>http://mii-images.cdn.nintendo.net/3ork9x9zbyv...</td>\n",
              "      <td>AU</td>\n",
              "      <td>Antonio</td>\n",
              "    </tr>\n",
              "    <tr>\n",
              "      <th>884301</th>\n",
              "      <td>diegoex</td>\n",
              "      <td>http://mii-images.cdn.nintendo.net/el5l54b8i2i...</td>\n",
              "      <td>FR</td>\n",
              "      <td>wolfy</td>\n",
              "    </tr>\n",
              "  </tbody>\n",
              "</table>\n",
              "<p>884302 rows × 4 columns</p>\n",
              "</div>"
            ],
            "text/plain": [
              "                     id  ...        name\n",
              "0           NolramImpro  ...      Nolram\n",
              "1               SGK2017  ...          しげ\n",
              "2        preamstrikbiz0  ...       primo\n",
              "3              gotatari  ...         たくと\n",
              "4            skrufpanda  ...   pinkachuz\n",
              "...                 ...  ...         ...\n",
              "884297          T.K.K.7  ...          かほ\n",
              "884298     BunnieBucket  ...  NativeLobo\n",
              "884299      soldnergeek  ...     soldner\n",
              "884300  coolantonio1000  ...     Antonio\n",
              "884301          diegoex  ...       wolfy\n",
              "\n",
              "[884302 rows x 4 columns]"
            ]
          },
          "metadata": {
            "tags": []
          },
          "execution_count": 16
        }
      ]
    },
    {
      "cell_type": "code",
      "metadata": {
        "colab": {
          "base_uri": "https://localhost:8080/",
          "height": 606
        },
        "id": "SEhVbRSFaVj1",
        "outputId": "9fbb32e1-7761-4cde-f9d2-c9e6493b7823"
      },
      "source": [
        "%%sql\n",
        "SELECT * FROM courses;"
      ],
      "execution_count": null,
      "outputs": [
        {
          "output_type": "stream",
          "text": [
            " * postgresql+psycopg2://@/postgres\n"
          ],
          "name": "stdout"
        },
        {
          "output_type": "execute_result",
          "data": {
            "text/html": [
              "<div>\n",
              "<style scoped>\n",
              "    .dataframe tbody tr th:only-of-type {\n",
              "        vertical-align: middle;\n",
              "    }\n",
              "\n",
              "    .dataframe tbody tr th {\n",
              "        vertical-align: top;\n",
              "    }\n",
              "\n",
              "    .dataframe thead th {\n",
              "        text-align: right;\n",
              "    }\n",
              "</style>\n",
              "<table border=\"1\" class=\"dataframe\">\n",
              "  <thead>\n",
              "    <tr style=\"text-align: right;\">\n",
              "      <th></th>\n",
              "      <th>id</th>\n",
              "      <th>difficulty</th>\n",
              "      <th>gamestyle</th>\n",
              "      <th>maker</th>\n",
              "      <th>title</th>\n",
              "      <th>thumbnail</th>\n",
              "      <th>image</th>\n",
              "      <th>creation</th>\n",
              "    </tr>\n",
              "  </thead>\n",
              "  <tbody>\n",
              "    <tr>\n",
              "      <th>0</th>\n",
              "      <td>079D-0000-0351-17E2</td>\n",
              "      <td>expert</td>\n",
              "      <td>marioBros3</td>\n",
              "      <td>NolramImpro</td>\n",
              "      <td>Apocalipse 14:12</td>\n",
              "      <td>https://dypqnhofrd2x2.cloudfront.net/079D-0000...</td>\n",
              "      <td>https://dypqnhofrd2x2.cloudfront.net/079D-0000...</td>\n",
              "      <td>2017-08-11 00:00:00</td>\n",
              "    </tr>\n",
              "    <tr>\n",
              "      <th>1</th>\n",
              "      <td>07CD-0000-030D-EA60</td>\n",
              "      <td>expert</td>\n",
              "      <td>marioBrosU</td>\n",
              "      <td>igorsssa</td>\n",
              "      <td>Dangerous Ship Fantasy</td>\n",
              "      <td>https://dypqnhofrd2x2.cloudfront.net/07CD-0000...</td>\n",
              "      <td>https://dypqnhofrd2x2.cloudfront.net/07CD-0000...</td>\n",
              "      <td>2017-03-11 00:00:00</td>\n",
              "    </tr>\n",
              "    <tr>\n",
              "      <th>2</th>\n",
              "      <td>07F7-0000-030F-A51B</td>\n",
              "      <td>superExpert</td>\n",
              "      <td>marioWorld</td>\n",
              "      <td>Wiggle133</td>\n",
              "      <td>Pow-Ing (Speedrun) (^o^)</td>\n",
              "      <td>https://dypqnhofrd2x2.cloudfront.net/07F7-0000...</td>\n",
              "      <td>https://dypqnhofrd2x2.cloudfront.net/07F7-0000...</td>\n",
              "      <td>2017-03-14 00:00:00</td>\n",
              "    </tr>\n",
              "    <tr>\n",
              "      <th>3</th>\n",
              "      <td>080E-0000-0307-A394</td>\n",
              "      <td>expert</td>\n",
              "      <td>marioBros</td>\n",
              "      <td>vitorotavio</td>\n",
              "      <td>desafios radcore</td>\n",
              "      <td>https://dypqnhofrd2x2.cloudfront.net/080E-0000...</td>\n",
              "      <td>https://dypqnhofrd2x2.cloudfront.net/080E-0000...</td>\n",
              "      <td>2017-02-26 00:00:00</td>\n",
              "    </tr>\n",
              "    <tr>\n",
              "      <th>4</th>\n",
              "      <td>082F-0000-0358-A218</td>\n",
              "      <td>normal</td>\n",
              "      <td>marioBros3</td>\n",
              "      <td>CaptainToad4444</td>\n",
              "      <td>Goodbye Miiverse...</td>\n",
              "      <td>https://dypqnhofrd2x2.cloudfront.net/082F-0000...</td>\n",
              "      <td>https://dypqnhofrd2x2.cloudfront.net/082F-0000...</td>\n",
              "      <td>2017-08-29 00:00:00</td>\n",
              "    </tr>\n",
              "    <tr>\n",
              "      <th>...</th>\n",
              "      <td>...</td>\n",
              "      <td>...</td>\n",
              "      <td>...</td>\n",
              "      <td>...</td>\n",
              "      <td>...</td>\n",
              "      <td>...</td>\n",
              "      <td>...</td>\n",
              "      <td>...</td>\n",
              "    </tr>\n",
              "    <tr>\n",
              "      <th>115027</th>\n",
              "      <td>F3EC-0000-0397-4CD8</td>\n",
              "      <td>superExpert</td>\n",
              "      <td>marioWorld</td>\n",
              "      <td>Joelbema</td>\n",
              "      <td>Boo's Hole of Dead #teammidair</td>\n",
              "      <td>https://dypqnhofrd2x2.cloudfront.net/F3EC-0000...</td>\n",
              "      <td>https://dypqnhofrd2x2.cloudfront.net/F3EC-0000...</td>\n",
              "      <td>2018-03-29 00:00:00</td>\n",
              "    </tr>\n",
              "    <tr>\n",
              "      <th>115028</th>\n",
              "      <td>FA09-0000-0398-1AA3</td>\n",
              "      <td>superExpert</td>\n",
              "      <td>marioBrosU</td>\n",
              "      <td>UrsonJr</td>\n",
              "      <td>[KC2] Chocolate Cavern</td>\n",
              "      <td>https://dypqnhofrd2x2.cloudfront.net/FA09-0000...</td>\n",
              "      <td>https://dypqnhofrd2x2.cloudfront.net/FA09-0000...</td>\n",
              "      <td>2018-03-31 00:00:00</td>\n",
              "    </tr>\n",
              "    <tr>\n",
              "      <th>115029</th>\n",
              "      <td>0053-0000-0396-BF28</td>\n",
              "      <td>superExpert</td>\n",
              "      <td>marioWorld</td>\n",
              "      <td>Robraf12</td>\n",
              "      <td>Carl's Suicidê Troll Mansion</td>\n",
              "      <td>https://dypqnhofrd2x2.cloudfront.net/0053-0000...</td>\n",
              "      <td>https://dypqnhofrd2x2.cloudfront.net/0053-0000...</td>\n",
              "      <td>2018-03-27 00:00:00</td>\n",
              "    </tr>\n",
              "    <tr>\n",
              "      <th>115030</th>\n",
              "      <td>0218-0000-0398-2894</td>\n",
              "      <td>superExpert</td>\n",
              "      <td>marioWorld</td>\n",
              "      <td>snaggyy</td>\n",
              "      <td>soshellicious [KC2]</td>\n",
              "      <td>https://dypqnhofrd2x2.cloudfront.net/0218-0000...</td>\n",
              "      <td>https://dypqnhofrd2x2.cloudfront.net/0218-0000...</td>\n",
              "      <td>2018-04-01 00:00:00</td>\n",
              "    </tr>\n",
              "    <tr>\n",
              "      <th>115031</th>\n",
              "      <td>0F27-0000-0398-0C99</td>\n",
              "      <td>superExpert</td>\n",
              "      <td>marioWorld</td>\n",
              "      <td>TetraByte7331</td>\n",
              "      <td>[KC2] Extra Virgin Olive Oil</td>\n",
              "      <td>https://dypqnhofrd2x2.cloudfront.net/0F27-0000...</td>\n",
              "      <td>https://dypqnhofrd2x2.cloudfront.net/0F27-0000...</td>\n",
              "      <td>2018-03-31 00:00:00</td>\n",
              "    </tr>\n",
              "  </tbody>\n",
              "</table>\n",
              "<p>115032 rows × 8 columns</p>\n",
              "</div>"
            ],
            "text/plain": [
              "                         id  ...             creation\n",
              "0       079D-0000-0351-17E2  ...  2017-08-11 00:00:00\n",
              "1       07CD-0000-030D-EA60  ...  2017-03-11 00:00:00\n",
              "2       07F7-0000-030F-A51B  ...  2017-03-14 00:00:00\n",
              "3       080E-0000-0307-A394  ...  2017-02-26 00:00:00\n",
              "4       082F-0000-0358-A218  ...  2017-08-29 00:00:00\n",
              "...                     ...  ...                  ...\n",
              "115027  F3EC-0000-0397-4CD8  ...  2018-03-29 00:00:00\n",
              "115028  FA09-0000-0398-1AA3  ...  2018-03-31 00:00:00\n",
              "115029  0053-0000-0396-BF28  ...  2018-03-27 00:00:00\n",
              "115030  0218-0000-0398-2894  ...  2018-04-01 00:00:00\n",
              "115031  0F27-0000-0398-0C99  ...  2018-03-31 00:00:00\n",
              "\n",
              "[115032 rows x 8 columns]"
            ]
          },
          "metadata": {
            "tags": []
          },
          "execution_count": 17
        }
      ]
    },
    {
      "cell_type": "code",
      "metadata": {
        "colab": {
          "base_uri": "https://localhost:8080/",
          "height": 436
        },
        "id": "sne_TqFrdKHY",
        "outputId": "8aaef16d-c511-4221-f388-5aaccf590acb"
      },
      "source": [
        "%%sql\n",
        "SELECT * FROM coursesMeta;"
      ],
      "execution_count": null,
      "outputs": [
        {
          "output_type": "stream",
          "text": [
            " * postgresql+psycopg2://@/postgres\n"
          ],
          "name": "stdout"
        },
        {
          "output_type": "execute_result",
          "data": {
            "text/html": [
              "<div>\n",
              "<style scoped>\n",
              "    .dataframe tbody tr th:only-of-type {\n",
              "        vertical-align: middle;\n",
              "    }\n",
              "\n",
              "    .dataframe tbody tr th {\n",
              "        vertical-align: top;\n",
              "    }\n",
              "\n",
              "    .dataframe thead th {\n",
              "        text-align: right;\n",
              "    }\n",
              "</style>\n",
              "<table border=\"1\" class=\"dataframe\">\n",
              "  <thead>\n",
              "    <tr style=\"text-align: right;\">\n",
              "      <th></th>\n",
              "      <th>catch</th>\n",
              "      <th>c_id</th>\n",
              "      <th>firstclear</th>\n",
              "      <th>tag</th>\n",
              "      <th>starts</th>\n",
              "      <th>players</th>\n",
              "      <th>tweets</th>\n",
              "      <th>clears</th>\n",
              "      <th>attempts</th>\n",
              "      <th>clearrate</th>\n",
              "    </tr>\n",
              "  </thead>\n",
              "  <tbody>\n",
              "    <tr>\n",
              "      <th>0</th>\n",
              "      <td>2017-11-16 14:45:36.703</td>\n",
              "      <td>079D-0000-0351-17E2</td>\n",
              "      <td>SGK2017</td>\n",
              "      <td>None</td>\n",
              "      <td>1</td>\n",
              "      <td>16</td>\n",
              "      <td>0</td>\n",
              "      <td>2</td>\n",
              "      <td>58.0</td>\n",
              "      <td>3.44</td>\n",
              "    </tr>\n",
              "    <tr>\n",
              "      <th>1</th>\n",
              "      <td>2017-11-16 14:45:38.342</td>\n",
              "      <td>07CD-0000-030D-EA60</td>\n",
              "      <td>emerson1312</td>\n",
              "      <td>None</td>\n",
              "      <td>1</td>\n",
              "      <td>22</td>\n",
              "      <td>0</td>\n",
              "      <td>2</td>\n",
              "      <td>120.0</td>\n",
              "      <td>1.66</td>\n",
              "    </tr>\n",
              "    <tr>\n",
              "      <th>2</th>\n",
              "      <td>2017-11-16 14:45:40.259</td>\n",
              "      <td>07F7-0000-030F-A51B</td>\n",
              "      <td>jacobrw420</td>\n",
              "      <td>None</td>\n",
              "      <td>9</td>\n",
              "      <td>69</td>\n",
              "      <td>0</td>\n",
              "      <td>7</td>\n",
              "      <td>903.0</td>\n",
              "      <td>0.77</td>\n",
              "    </tr>\n",
              "    <tr>\n",
              "      <th>3</th>\n",
              "      <td>2017-11-16 14:45:42.023</td>\n",
              "      <td>080E-0000-0307-A394</td>\n",
              "      <td>Alef_Nascimento</td>\n",
              "      <td>None</td>\n",
              "      <td>2</td>\n",
              "      <td>27</td>\n",
              "      <td>0</td>\n",
              "      <td>4</td>\n",
              "      <td>93.0</td>\n",
              "      <td>4.30</td>\n",
              "    </tr>\n",
              "    <tr>\n",
              "      <th>4</th>\n",
              "      <td>2017-11-16 14:45:43.414</td>\n",
              "      <td>082F-0000-0358-A218</td>\n",
              "      <td>Thunder8966</td>\n",
              "      <td>None</td>\n",
              "      <td>1</td>\n",
              "      <td>11</td>\n",
              "      <td>0</td>\n",
              "      <td>2</td>\n",
              "      <td>19.0</td>\n",
              "      <td>10.52</td>\n",
              "    </tr>\n",
              "    <tr>\n",
              "      <th>...</th>\n",
              "      <td>...</td>\n",
              "      <td>...</td>\n",
              "      <td>...</td>\n",
              "      <td>...</td>\n",
              "      <td>...</td>\n",
              "      <td>...</td>\n",
              "      <td>...</td>\n",
              "      <td>...</td>\n",
              "      <td>...</td>\n",
              "      <td>...</td>\n",
              "    </tr>\n",
              "    <tr>\n",
              "      <th>292293</th>\n",
              "      <td>2018-04-10 11:26:16.261</td>\n",
              "      <td>03F8-0000-0337-AC02</td>\n",
              "      <td>SegaMegaMan</td>\n",
              "      <td>None</td>\n",
              "      <td>7</td>\n",
              "      <td>43</td>\n",
              "      <td>0</td>\n",
              "      <td>6</td>\n",
              "      <td>314.0</td>\n",
              "      <td>1.91</td>\n",
              "    </tr>\n",
              "    <tr>\n",
              "      <th>292294</th>\n",
              "      <td>2018-04-10 11:26:59.971</td>\n",
              "      <td>03F8-0000-035A-ABBF</td>\n",
              "      <td>ssgss0929</td>\n",
              "      <td>None</td>\n",
              "      <td>3</td>\n",
              "      <td>25</td>\n",
              "      <td>0</td>\n",
              "      <td>5</td>\n",
              "      <td>114.0</td>\n",
              "      <td>4.38</td>\n",
              "    </tr>\n",
              "    <tr>\n",
              "      <th>292295</th>\n",
              "      <td>2018-04-10 11:27:05.216</td>\n",
              "      <td>03FA-0000-034B-3B20</td>\n",
              "      <td>None</td>\n",
              "      <td>None</td>\n",
              "      <td>2</td>\n",
              "      <td>30</td>\n",
              "      <td>0</td>\n",
              "      <td>0</td>\n",
              "      <td>425.0</td>\n",
              "      <td>0.00</td>\n",
              "    </tr>\n",
              "    <tr>\n",
              "      <th>292296</th>\n",
              "      <td>2018-04-10 11:28:26.403</td>\n",
              "      <td>0402-0000-02FF-5301</td>\n",
              "      <td>msat-mori</td>\n",
              "      <td>None</td>\n",
              "      <td>1</td>\n",
              "      <td>32</td>\n",
              "      <td>0</td>\n",
              "      <td>25</td>\n",
              "      <td>57.0</td>\n",
              "      <td>43.85</td>\n",
              "    </tr>\n",
              "    <tr>\n",
              "      <th>292297</th>\n",
              "      <td>2018-04-10 11:29:38.36</td>\n",
              "      <td>0402-0000-0311-84B2</td>\n",
              "      <td>timur006</td>\n",
              "      <td>None</td>\n",
              "      <td>3</td>\n",
              "      <td>40</td>\n",
              "      <td>0</td>\n",
              "      <td>39</td>\n",
              "      <td>44.0</td>\n",
              "      <td>88.63</td>\n",
              "    </tr>\n",
              "  </tbody>\n",
              "</table>\n",
              "<p>292298 rows × 10 columns</p>\n",
              "</div>"
            ],
            "text/plain": [
              "                          catch                 c_id  ... attempts clearrate\n",
              "0       2017-11-16 14:45:36.703  079D-0000-0351-17E2  ...     58.0      3.44\n",
              "1       2017-11-16 14:45:38.342  07CD-0000-030D-EA60  ...    120.0      1.66\n",
              "2       2017-11-16 14:45:40.259  07F7-0000-030F-A51B  ...    903.0      0.77\n",
              "3       2017-11-16 14:45:42.023  080E-0000-0307-A394  ...     93.0      4.30\n",
              "4       2017-11-16 14:45:43.414  082F-0000-0358-A218  ...     19.0     10.52\n",
              "...                         ...                  ...  ...      ...       ...\n",
              "292293  2018-04-10 11:26:16.261  03F8-0000-0337-AC02  ...    314.0      1.91\n",
              "292294  2018-04-10 11:26:59.971  03F8-0000-035A-ABBF  ...    114.0      4.38\n",
              "292295  2018-04-10 11:27:05.216  03FA-0000-034B-3B20  ...    425.0      0.00\n",
              "292296  2018-04-10 11:28:26.403  0402-0000-02FF-5301  ...     57.0     43.85\n",
              "292297   2018-04-10 11:29:38.36  0402-0000-0311-84B2  ...     44.0     88.63\n",
              "\n",
              "[292298 rows x 10 columns]"
            ]
          },
          "metadata": {
            "tags": []
          },
          "execution_count": 18
        }
      ]
    },
    {
      "cell_type": "code",
      "metadata": {
        "colab": {
          "base_uri": "https://localhost:8080/",
          "height": 436
        },
        "id": "yRpPLNACfJCc",
        "outputId": "fa0af859-c1a7-4693-923d-a1e51a48aca0"
      },
      "source": [
        "%%sql\n",
        "SELECT * FROM clears;"
      ],
      "execution_count": null,
      "outputs": [
        {
          "output_type": "stream",
          "text": [
            " * postgresql+psycopg2://@/postgres\n"
          ],
          "name": "stdout"
        },
        {
          "output_type": "execute_result",
          "data": {
            "text/html": [
              "<div>\n",
              "<style scoped>\n",
              "    .dataframe tbody tr th:only-of-type {\n",
              "        vertical-align: middle;\n",
              "    }\n",
              "\n",
              "    .dataframe tbody tr th {\n",
              "        vertical-align: top;\n",
              "    }\n",
              "\n",
              "    .dataframe thead th {\n",
              "        text-align: right;\n",
              "    }\n",
              "</style>\n",
              "<table border=\"1\" class=\"dataframe\">\n",
              "  <thead>\n",
              "    <tr style=\"text-align: right;\">\n",
              "      <th></th>\n",
              "      <th>catch</th>\n",
              "      <th>c_id</th>\n",
              "      <th>p_id</th>\n",
              "    </tr>\n",
              "  </thead>\n",
              "  <tbody>\n",
              "    <tr>\n",
              "      <th>0</th>\n",
              "      <td>2018-02-23 15:22:44.015</td>\n",
              "      <td>0000-0000-0353-3D35</td>\n",
              "      <td>darter60k</td>\n",
              "    </tr>\n",
              "    <tr>\n",
              "      <th>1</th>\n",
              "      <td>2018-02-23 15:22:44.015</td>\n",
              "      <td>0000-0000-0353-3D35</td>\n",
              "      <td>davidchofis</td>\n",
              "    </tr>\n",
              "    <tr>\n",
              "      <th>2</th>\n",
              "      <td>2018-02-23 15:22:44.015</td>\n",
              "      <td>0000-0000-0353-3D35</td>\n",
              "      <td>fabioviana</td>\n",
              "    </tr>\n",
              "    <tr>\n",
              "      <th>3</th>\n",
              "      <td>2018-02-23 15:22:44.015</td>\n",
              "      <td>0000-0000-0353-3D35</td>\n",
              "      <td>groebenzell</td>\n",
              "    </tr>\n",
              "    <tr>\n",
              "      <th>4</th>\n",
              "      <td>2018-02-23 15:22:44.015</td>\n",
              "      <td>0000-0000-0353-3D35</td>\n",
              "      <td>igatake0229</td>\n",
              "    </tr>\n",
              "    <tr>\n",
              "      <th>...</th>\n",
              "      <td>...</td>\n",
              "      <td>...</td>\n",
              "      <td>...</td>\n",
              "    </tr>\n",
              "    <tr>\n",
              "      <th>2051804</th>\n",
              "      <td>2018-02-23 15:07:12.505</td>\n",
              "      <td>FFFF-0000-035D-4849</td>\n",
              "      <td>ikazuchi38</td>\n",
              "    </tr>\n",
              "    <tr>\n",
              "      <th>2051805</th>\n",
              "      <td>2018-02-23 15:07:12.505</td>\n",
              "      <td>FFFF-0000-035D-4849</td>\n",
              "      <td>prb339</td>\n",
              "    </tr>\n",
              "    <tr>\n",
              "      <th>2051806</th>\n",
              "      <td>2018-02-23 15:07:12.505</td>\n",
              "      <td>FFFF-0000-035D-4849</td>\n",
              "      <td>Skalavachris7000</td>\n",
              "    </tr>\n",
              "    <tr>\n",
              "      <th>2051807</th>\n",
              "      <td>2018-02-23 15:07:12.505</td>\n",
              "      <td>FFFF-0000-035D-4849</td>\n",
              "      <td>supersmash545355</td>\n",
              "    </tr>\n",
              "    <tr>\n",
              "      <th>2051808</th>\n",
              "      <td>2018-02-23 15:07:12.505</td>\n",
              "      <td>FFFF-0000-035D-4849</td>\n",
              "      <td>Void-Triforce</td>\n",
              "    </tr>\n",
              "  </tbody>\n",
              "</table>\n",
              "<p>2051809 rows × 3 columns</p>\n",
              "</div>"
            ],
            "text/plain": [
              "                           catch                 c_id              p_id\n",
              "0        2018-02-23 15:22:44.015  0000-0000-0353-3D35         darter60k\n",
              "1        2018-02-23 15:22:44.015  0000-0000-0353-3D35       davidchofis\n",
              "2        2018-02-23 15:22:44.015  0000-0000-0353-3D35        fabioviana\n",
              "3        2018-02-23 15:22:44.015  0000-0000-0353-3D35       groebenzell\n",
              "4        2018-02-23 15:22:44.015  0000-0000-0353-3D35       igatake0229\n",
              "...                          ...                  ...               ...\n",
              "2051804  2018-02-23 15:07:12.505  FFFF-0000-035D-4849        ikazuchi38\n",
              "2051805  2018-02-23 15:07:12.505  FFFF-0000-035D-4849            prb339\n",
              "2051806  2018-02-23 15:07:12.505  FFFF-0000-035D-4849  Skalavachris7000\n",
              "2051807  2018-02-23 15:07:12.505  FFFF-0000-035D-4849  supersmash545355\n",
              "2051808  2018-02-23 15:07:12.505  FFFF-0000-035D-4849     Void-Triforce\n",
              "\n",
              "[2051809 rows x 3 columns]"
            ]
          },
          "metadata": {
            "tags": []
          },
          "execution_count": 19
        }
      ]
    },
    {
      "cell_type": "code",
      "metadata": {
        "colab": {
          "base_uri": "https://localhost:8080/",
          "height": 436
        },
        "id": "1pXa5HBZfUQW",
        "outputId": "a82b0e61-2b23-46a1-c3d0-a11f8280fa9e"
      },
      "source": [
        "%%sql\n",
        "SELECT * FROM likes;"
      ],
      "execution_count": null,
      "outputs": [
        {
          "output_type": "stream",
          "text": [
            " * postgresql+psycopg2://@/postgres\n"
          ],
          "name": "stdout"
        },
        {
          "output_type": "execute_result",
          "data": {
            "text/html": [
              "<div>\n",
              "<style scoped>\n",
              "    .dataframe tbody tr th:only-of-type {\n",
              "        vertical-align: middle;\n",
              "    }\n",
              "\n",
              "    .dataframe tbody tr th {\n",
              "        vertical-align: top;\n",
              "    }\n",
              "\n",
              "    .dataframe thead th {\n",
              "        text-align: right;\n",
              "    }\n",
              "</style>\n",
              "<table border=\"1\" class=\"dataframe\">\n",
              "  <thead>\n",
              "    <tr style=\"text-align: right;\">\n",
              "      <th></th>\n",
              "      <th>catch</th>\n",
              "      <th>c_id</th>\n",
              "      <th>p_id</th>\n",
              "    </tr>\n",
              "  </thead>\n",
              "  <tbody>\n",
              "    <tr>\n",
              "      <th>0</th>\n",
              "      <td>2018-02-23 15:22:44.015</td>\n",
              "      <td>0000-0000-0353-3D35</td>\n",
              "      <td>groebenzell</td>\n",
              "    </tr>\n",
              "    <tr>\n",
              "      <th>1</th>\n",
              "      <td>2018-03-02 09:46:27.847</td>\n",
              "      <td>0000-0000-035A-9F14</td>\n",
              "      <td>jlan6e</td>\n",
              "    </tr>\n",
              "    <tr>\n",
              "      <th>2</th>\n",
              "      <td>2017-12-18 14:47:47.489</td>\n",
              "      <td>0001-0000-0347-486A</td>\n",
              "      <td>cat38690</td>\n",
              "    </tr>\n",
              "    <tr>\n",
              "      <th>3</th>\n",
              "      <td>2017-12-18 14:47:47.489</td>\n",
              "      <td>0001-0000-0347-486A</td>\n",
              "      <td>raulcaba</td>\n",
              "    </tr>\n",
              "    <tr>\n",
              "      <th>4</th>\n",
              "      <td>2017-12-18 14:47:48.878</td>\n",
              "      <td>0001-0000-0359-B3CD</td>\n",
              "      <td>Tugaeddy</td>\n",
              "    </tr>\n",
              "    <tr>\n",
              "      <th>...</th>\n",
              "      <td>...</td>\n",
              "      <td>...</td>\n",
              "      <td>...</td>\n",
              "    </tr>\n",
              "    <tr>\n",
              "      <th>618682</th>\n",
              "      <td>2018-03-02 10:08:07.374</td>\n",
              "      <td>FFFC-0000-0346-165A</td>\n",
              "      <td>Zurix_Maker</td>\n",
              "    </tr>\n",
              "    <tr>\n",
              "      <th>618683</th>\n",
              "      <td>2017-12-18 16:13:11.377</td>\n",
              "      <td>FFFE-0000-032B-2D6F</td>\n",
              "      <td>MakiseKurisu</td>\n",
              "    </tr>\n",
              "    <tr>\n",
              "      <th>618684</th>\n",
              "      <td>2018-03-02 10:08:09.252</td>\n",
              "      <td>FFFE-0000-0341-4F2B</td>\n",
              "      <td>028022play</td>\n",
              "    </tr>\n",
              "    <tr>\n",
              "      <th>618685</th>\n",
              "      <td>2018-03-02 10:08:09.252</td>\n",
              "      <td>FFFE-0000-0341-4F2B</td>\n",
              "      <td>lucashob</td>\n",
              "    </tr>\n",
              "    <tr>\n",
              "      <th>618686</th>\n",
              "      <td>2018-02-23 15:07:12.505</td>\n",
              "      <td>FFFF-0000-035D-4849</td>\n",
              "      <td>graffitiboy44</td>\n",
              "    </tr>\n",
              "  </tbody>\n",
              "</table>\n",
              "<p>618687 rows × 3 columns</p>\n",
              "</div>"
            ],
            "text/plain": [
              "                          catch                 c_id           p_id\n",
              "0       2018-02-23 15:22:44.015  0000-0000-0353-3D35    groebenzell\n",
              "1       2018-03-02 09:46:27.847  0000-0000-035A-9F14         jlan6e\n",
              "2       2017-12-18 14:47:47.489  0001-0000-0347-486A       cat38690\n",
              "3       2017-12-18 14:47:47.489  0001-0000-0347-486A       raulcaba\n",
              "4       2017-12-18 14:47:48.878  0001-0000-0359-B3CD       Tugaeddy\n",
              "...                         ...                  ...            ...\n",
              "618682  2018-03-02 10:08:07.374  FFFC-0000-0346-165A    Zurix_Maker\n",
              "618683  2017-12-18 16:13:11.377  FFFE-0000-032B-2D6F   MakiseKurisu\n",
              "618684  2018-03-02 10:08:09.252  FFFE-0000-0341-4F2B     028022play\n",
              "618685  2018-03-02 10:08:09.252  FFFE-0000-0341-4F2B       lucashob\n",
              "618686  2018-02-23 15:07:12.505  FFFF-0000-035D-4849  graffitiboy44\n",
              "\n",
              "[618687 rows x 3 columns]"
            ]
          },
          "metadata": {
            "tags": []
          },
          "execution_count": 20
        }
      ]
    },
    {
      "cell_type": "code",
      "metadata": {
        "colab": {
          "base_uri": "https://localhost:8080/",
          "height": 436
        },
        "id": "f3AJwokqgbFe",
        "outputId": "ba1fb67a-eaba-42b3-ee04-af66bafc3d4a"
      },
      "source": [
        "%%sql\n",
        "SELECT * FROM plays;"
      ],
      "execution_count": null,
      "outputs": [
        {
          "output_type": "stream",
          "text": [
            " * postgresql+psycopg2://@/postgres\n"
          ],
          "name": "stdout"
        },
        {
          "output_type": "execute_result",
          "data": {
            "text/html": [
              "<div>\n",
              "<style scoped>\n",
              "    .dataframe tbody tr th:only-of-type {\n",
              "        vertical-align: middle;\n",
              "    }\n",
              "\n",
              "    .dataframe tbody tr th {\n",
              "        vertical-align: top;\n",
              "    }\n",
              "\n",
              "    .dataframe thead th {\n",
              "        text-align: right;\n",
              "    }\n",
              "</style>\n",
              "<table border=\"1\" class=\"dataframe\">\n",
              "  <thead>\n",
              "    <tr style=\"text-align: right;\">\n",
              "      <th></th>\n",
              "      <th>catch</th>\n",
              "      <th>c_id</th>\n",
              "      <th>p_id</th>\n",
              "    </tr>\n",
              "  </thead>\n",
              "  <tbody>\n",
              "    <tr>\n",
              "      <th>0</th>\n",
              "      <td>2018-02-23 15:22:44.015</td>\n",
              "      <td>0000-0000-0353-3D35</td>\n",
              "      <td>darter60k</td>\n",
              "    </tr>\n",
              "    <tr>\n",
              "      <th>1</th>\n",
              "      <td>2018-02-23 15:22:44.015</td>\n",
              "      <td>0000-0000-0353-3D35</td>\n",
              "      <td>davidchofis</td>\n",
              "    </tr>\n",
              "    <tr>\n",
              "      <th>2</th>\n",
              "      <td>2018-02-23 15:22:44.015</td>\n",
              "      <td>0000-0000-0353-3D35</td>\n",
              "      <td>fabioviana</td>\n",
              "    </tr>\n",
              "    <tr>\n",
              "      <th>3</th>\n",
              "      <td>2018-02-23 15:22:44.015</td>\n",
              "      <td>0000-0000-0353-3D35</td>\n",
              "      <td>gorigokky</td>\n",
              "    </tr>\n",
              "    <tr>\n",
              "      <th>4</th>\n",
              "      <td>2018-02-23 15:22:44.015</td>\n",
              "      <td>0000-0000-0353-3D35</td>\n",
              "      <td>groebenzell</td>\n",
              "    </tr>\n",
              "    <tr>\n",
              "      <th>...</th>\n",
              "      <td>...</td>\n",
              "      <td>...</td>\n",
              "      <td>...</td>\n",
              "    </tr>\n",
              "    <tr>\n",
              "      <th>3941373</th>\n",
              "      <td>2018-02-23 15:07:12.505</td>\n",
              "      <td>FFFF-0000-035D-4849</td>\n",
              "      <td>Skalavachris7000</td>\n",
              "    </tr>\n",
              "    <tr>\n",
              "      <th>3941374</th>\n",
              "      <td>2018-02-23 15:07:12.505</td>\n",
              "      <td>FFFF-0000-035D-4849</td>\n",
              "      <td>supersmash545355</td>\n",
              "    </tr>\n",
              "    <tr>\n",
              "      <th>3941375</th>\n",
              "      <td>2018-02-23 15:07:12.505</td>\n",
              "      <td>FFFF-0000-035D-4849</td>\n",
              "      <td>tomokun0221</td>\n",
              "    </tr>\n",
              "    <tr>\n",
              "      <th>3941376</th>\n",
              "      <td>2018-02-23 15:07:12.505</td>\n",
              "      <td>FFFF-0000-035D-4849</td>\n",
              "      <td>Void-Triforce</td>\n",
              "    </tr>\n",
              "    <tr>\n",
              "      <th>3941377</th>\n",
              "      <td>2018-02-23 15:07:12.505</td>\n",
              "      <td>FFFF-0000-035D-4849</td>\n",
              "      <td>Xillough</td>\n",
              "    </tr>\n",
              "  </tbody>\n",
              "</table>\n",
              "<p>3941378 rows × 3 columns</p>\n",
              "</div>"
            ],
            "text/plain": [
              "                           catch                 c_id              p_id\n",
              "0        2018-02-23 15:22:44.015  0000-0000-0353-3D35         darter60k\n",
              "1        2018-02-23 15:22:44.015  0000-0000-0353-3D35       davidchofis\n",
              "2        2018-02-23 15:22:44.015  0000-0000-0353-3D35        fabioviana\n",
              "3        2018-02-23 15:22:44.015  0000-0000-0353-3D35         gorigokky\n",
              "4        2018-02-23 15:22:44.015  0000-0000-0353-3D35       groebenzell\n",
              "...                          ...                  ...               ...\n",
              "3941373  2018-02-23 15:07:12.505  FFFF-0000-035D-4849  Skalavachris7000\n",
              "3941374  2018-02-23 15:07:12.505  FFFF-0000-035D-4849  supersmash545355\n",
              "3941375  2018-02-23 15:07:12.505  FFFF-0000-035D-4849       tomokun0221\n",
              "3941376  2018-02-23 15:07:12.505  FFFF-0000-035D-4849     Void-Triforce\n",
              "3941377  2018-02-23 15:07:12.505  FFFF-0000-035D-4849          Xillough\n",
              "\n",
              "[3941378 rows x 3 columns]"
            ]
          },
          "metadata": {
            "tags": []
          },
          "execution_count": 21
        }
      ]
    },
    {
      "cell_type": "code",
      "metadata": {
        "colab": {
          "base_uri": "https://localhost:8080/",
          "height": 436
        },
        "id": "AkHyFO9cggNE",
        "outputId": "2f3653b3-90d9-4d98-a315-313cedabaafd"
      },
      "source": [
        "%%sql\n",
        "SELECT * FROM records;"
      ],
      "execution_count": null,
      "outputs": [
        {
          "output_type": "stream",
          "text": [
            " * postgresql+psycopg2://@/postgres\n"
          ],
          "name": "stdout"
        },
        {
          "output_type": "execute_result",
          "data": {
            "text/html": [
              "<div>\n",
              "<style scoped>\n",
              "    .dataframe tbody tr th:only-of-type {\n",
              "        vertical-align: middle;\n",
              "    }\n",
              "\n",
              "    .dataframe tbody tr th {\n",
              "        vertical-align: top;\n",
              "    }\n",
              "\n",
              "    .dataframe thead th {\n",
              "        text-align: right;\n",
              "    }\n",
              "</style>\n",
              "<table border=\"1\" class=\"dataframe\">\n",
              "  <thead>\n",
              "    <tr style=\"text-align: right;\">\n",
              "      <th></th>\n",
              "      <th>catch</th>\n",
              "      <th>c_id</th>\n",
              "      <th>p_id</th>\n",
              "      <th>timerecord</th>\n",
              "    </tr>\n",
              "  </thead>\n",
              "  <tbody>\n",
              "    <tr>\n",
              "      <th>0</th>\n",
              "      <td>2017-12-18 15:35:29.015</td>\n",
              "      <td>F68A-0000-0337-AF4F</td>\n",
              "      <td>The_Brucican</td>\n",
              "      <td>15482</td>\n",
              "    </tr>\n",
              "    <tr>\n",
              "      <th>1</th>\n",
              "      <td>2018-03-02 10:09:32.392</td>\n",
              "      <td>9669-0000-0330-554C</td>\n",
              "      <td>inoino2226</td>\n",
              "      <td>9265</td>\n",
              "    </tr>\n",
              "    <tr>\n",
              "      <th>2</th>\n",
              "      <td>2017-12-18 15:47:40.665</td>\n",
              "      <td>0D1D-0000-0355-DA7A</td>\n",
              "      <td>hbeeboy</td>\n",
              "      <td>6692</td>\n",
              "    </tr>\n",
              "    <tr>\n",
              "      <th>3</th>\n",
              "      <td>2018-02-23 15:02:20.557</td>\n",
              "      <td>18E3-0000-032A-27AB</td>\n",
              "      <td>Khazey</td>\n",
              "      <td>40383</td>\n",
              "    </tr>\n",
              "    <tr>\n",
              "      <th>4</th>\n",
              "      <td>2018-02-23 15:05:16.414</td>\n",
              "      <td>2C55-0000-0300-854A</td>\n",
              "      <td>okayan3378</td>\n",
              "      <td>1533</td>\n",
              "    </tr>\n",
              "    <tr>\n",
              "      <th>...</th>\n",
              "      <td>...</td>\n",
              "      <td>...</td>\n",
              "      <td>...</td>\n",
              "      <td>...</td>\n",
              "    </tr>\n",
              "    <tr>\n",
              "      <th>117121</th>\n",
              "      <td>2018-02-23 15:22:13.78</td>\n",
              "      <td>DC90-0000-0332-8D93</td>\n",
              "      <td>bouboun</td>\n",
              "      <td>8666</td>\n",
              "    </tr>\n",
              "    <tr>\n",
              "      <th>117122</th>\n",
              "      <td>2018-03-02 09:57:33.916</td>\n",
              "      <td>CDF8-0000-038D-4838</td>\n",
              "      <td>massa0130</td>\n",
              "      <td>146230</td>\n",
              "    </tr>\n",
              "    <tr>\n",
              "      <th>117123</th>\n",
              "      <td>2018-02-23 14:57:00.835</td>\n",
              "      <td>D6FE-0000-031E-01E1</td>\n",
              "      <td>revolv23</td>\n",
              "      <td>6709</td>\n",
              "    </tr>\n",
              "    <tr>\n",
              "      <th>117124</th>\n",
              "      <td>2018-02-23 15:10:13.288</td>\n",
              "      <td>9FF8-0000-0335-A780</td>\n",
              "      <td>213374u</td>\n",
              "      <td>64628</td>\n",
              "    </tr>\n",
              "    <tr>\n",
              "      <th>117125</th>\n",
              "      <td>2017-11-16 14:53:54.64</td>\n",
              "      <td>2097-0000-0331-2A21</td>\n",
              "      <td>JulioMega</td>\n",
              "      <td>101124</td>\n",
              "    </tr>\n",
              "  </tbody>\n",
              "</table>\n",
              "<p>117126 rows × 4 columns</p>\n",
              "</div>"
            ],
            "text/plain": [
              "                          catch                 c_id          p_id  timerecord\n",
              "0       2017-12-18 15:35:29.015  F68A-0000-0337-AF4F  The_Brucican       15482\n",
              "1       2018-03-02 10:09:32.392  9669-0000-0330-554C    inoino2226        9265\n",
              "2       2017-12-18 15:47:40.665  0D1D-0000-0355-DA7A       hbeeboy        6692\n",
              "3       2018-02-23 15:02:20.557  18E3-0000-032A-27AB        Khazey       40383\n",
              "4       2018-02-23 15:05:16.414  2C55-0000-0300-854A    okayan3378        1533\n",
              "...                         ...                  ...           ...         ...\n",
              "117121   2018-02-23 15:22:13.78  DC90-0000-0332-8D93       bouboun        8666\n",
              "117122  2018-03-02 09:57:33.916  CDF8-0000-038D-4838     massa0130      146230\n",
              "117123  2018-02-23 14:57:00.835  D6FE-0000-031E-01E1      revolv23        6709\n",
              "117124  2018-02-23 15:10:13.288  9FF8-0000-0335-A780       213374u       64628\n",
              "117125   2017-11-16 14:53:54.64  2097-0000-0331-2A21     JulioMega      101124\n",
              "\n",
              "[117126 rows x 4 columns]"
            ]
          },
          "metadata": {
            "tags": []
          },
          "execution_count": 22
        }
      ]
    },
    {
      "cell_type": "markdown",
      "metadata": {
        "id": "N6nbUogUwTNb"
      },
      "source": [
        "# 1. Top 10 Mapas más jugados:"
      ]
    },
    {
      "cell_type": "code",
      "metadata": {
        "colab": {
          "base_uri": "https://localhost:8080/",
          "height": 376
        },
        "id": "caELWMJiimA_",
        "outputId": "c16489ed-2606-46c4-fdc8-e3cc253d7b30"
      },
      "source": [
        "%%sql\n",
        "SELECT id, title, gameStyle, difficulty, COUNT(c_id) AS veces_jugado\n",
        "FROM plays, courses\n",
        "where c_id = id\n",
        "GROUP BY id, title, gameStyle, difficulty\n",
        "ORDER BY veces_jugado DESC\n",
        "LIMIT 10"
      ],
      "execution_count": null,
      "outputs": [
        {
          "output_type": "stream",
          "text": [
            " * postgresql+psycopg2://@/postgres\n"
          ],
          "name": "stdout"
        },
        {
          "output_type": "execute_result",
          "data": {
            "text/html": [
              "<div>\n",
              "<style scoped>\n",
              "    .dataframe tbody tr th:only-of-type {\n",
              "        vertical-align: middle;\n",
              "    }\n",
              "\n",
              "    .dataframe tbody tr th {\n",
              "        vertical-align: top;\n",
              "    }\n",
              "\n",
              "    .dataframe thead th {\n",
              "        text-align: right;\n",
              "    }\n",
              "</style>\n",
              "<table border=\"1\" class=\"dataframe\">\n",
              "  <thead>\n",
              "    <tr style=\"text-align: right;\">\n",
              "      <th></th>\n",
              "      <th>id</th>\n",
              "      <th>title</th>\n",
              "      <th>gamestyle</th>\n",
              "      <th>difficulty</th>\n",
              "      <th>veces_jugado</th>\n",
              "    </tr>\n",
              "  </thead>\n",
              "  <tbody>\n",
              "    <tr>\n",
              "      <th>0</th>\n",
              "      <td>5AB9-0000-038F-A23E</td>\n",
              "      <td>[Quiz] Look Picture, Choose Item</td>\n",
              "      <td>marioBros3</td>\n",
              "      <td>normal</td>\n",
              "      <td>1673</td>\n",
              "    </tr>\n",
              "    <tr>\n",
              "      <th>1</th>\n",
              "      <td>F44D-0000-035E-496C</td>\n",
              "      <td>[2YMM] In Muris Occulta</td>\n",
              "      <td>marioBros</td>\n",
              "      <td>expert</td>\n",
              "      <td>1143</td>\n",
              "    </tr>\n",
              "    <tr>\n",
              "      <th>2</th>\n",
              "      <td>DE4D-0000-035D-3AE1</td>\n",
              "      <td>[2YMM] Spiny Side Down</td>\n",
              "      <td>marioBros</td>\n",
              "      <td>superExpert</td>\n",
              "      <td>1089</td>\n",
              "    </tr>\n",
              "    <tr>\n",
              "      <th>3</th>\n",
              "      <td>A4E1-0000-038D-0EBC</td>\n",
              "      <td>Marios secret Trainingsparcours</td>\n",
              "      <td>marioWorld</td>\n",
              "      <td>normal</td>\n",
              "      <td>1021</td>\n",
              "    </tr>\n",
              "    <tr>\n",
              "      <th>4</th>\n",
              "      <td>8F40-0000-0391-4B50</td>\n",
              "      <td>■◆Speed run pour mes amis◆■</td>\n",
              "      <td>marioBrosU</td>\n",
              "      <td>easy</td>\n",
              "      <td>1014</td>\n",
              "    </tr>\n",
              "    <tr>\n",
              "      <th>5</th>\n",
              "      <td>CE94-0000-038F-7559</td>\n",
              "      <td>◆●Speed run spécial kinoko●◆</td>\n",
              "      <td>marioBrosU</td>\n",
              "      <td>normal</td>\n",
              "      <td>997</td>\n",
              "    </tr>\n",
              "    <tr>\n",
              "      <th>6</th>\n",
              "      <td>67CF-0000-035F-BC1D</td>\n",
              "      <td>The Kindly Marked Troll Level</td>\n",
              "      <td>marioBros</td>\n",
              "      <td>expert</td>\n",
              "      <td>966</td>\n",
              "    </tr>\n",
              "    <tr>\n",
              "      <th>7</th>\n",
              "      <td>BAC8-0000-036A-7EE1</td>\n",
              "      <td>[2YMM] Ode to Odyssey</td>\n",
              "      <td>marioBros</td>\n",
              "      <td>normal</td>\n",
              "      <td>937</td>\n",
              "    </tr>\n",
              "    <tr>\n",
              "      <th>8</th>\n",
              "      <td>CEB8-0000-0353-A31E</td>\n",
              "      <td>Tricky House #1: Spring Time</td>\n",
              "      <td>marioWorld</td>\n",
              "      <td>superExpert</td>\n",
              "      <td>900</td>\n",
              "    </tr>\n",
              "    <tr>\n",
              "      <th>9</th>\n",
              "      <td>596A-0000-0375-6596</td>\n",
              "      <td>W10~ Blackcherry Mines</td>\n",
              "      <td>marioWorld</td>\n",
              "      <td>expert</td>\n",
              "      <td>873</td>\n",
              "    </tr>\n",
              "  </tbody>\n",
              "</table>\n",
              "</div>"
            ],
            "text/plain": [
              "                    id  ... veces_jugado\n",
              "0  5AB9-0000-038F-A23E  ...         1673\n",
              "1  F44D-0000-035E-496C  ...         1143\n",
              "2  DE4D-0000-035D-3AE1  ...         1089\n",
              "3  A4E1-0000-038D-0EBC  ...         1021\n",
              "4  8F40-0000-0391-4B50  ...         1014\n",
              "5  CE94-0000-038F-7559  ...          997\n",
              "6  67CF-0000-035F-BC1D  ...          966\n",
              "7  BAC8-0000-036A-7EE1  ...          937\n",
              "8  CEB8-0000-0353-A31E  ...          900\n",
              "9  596A-0000-0375-6596  ...          873\n",
              "\n",
              "[10 rows x 5 columns]"
            ]
          },
          "metadata": {
            "tags": []
          },
          "execution_count": 23
        }
      ]
    },
    {
      "cell_type": "markdown",
      "metadata": {
        "id": "G7caD-vdzQn6"
      },
      "source": [
        "# 2. Top 10 jugadores más viciados (que han jugado más):"
      ]
    },
    {
      "cell_type": "code",
      "metadata": {
        "colab": {
          "base_uri": "https://localhost:8080/",
          "height": 376
        },
        "id": "wWJIjkQ9j1Bv",
        "outputId": "d5a87411-a787-4054-d435-88c926ebef12"
      },
      "source": [
        "%%sql\n",
        "SELECT p_id as player_id, flag ,COUNT(p_id) AS cantidad_de_juegos\n",
        "FROM plays, players\n",
        "Where id = p_id \n",
        "GROUP BY player_id, flag\n",
        "ORDER BY cantidad_de_juegos DESC\n",
        "LIMIT 10"
      ],
      "execution_count": null,
      "outputs": [
        {
          "output_type": "stream",
          "text": [
            " * postgresql+psycopg2://@/postgres\n"
          ],
          "name": "stdout"
        },
        {
          "output_type": "execute_result",
          "data": {
            "text/html": [
              "<div>\n",
              "<style scoped>\n",
              "    .dataframe tbody tr th:only-of-type {\n",
              "        vertical-align: middle;\n",
              "    }\n",
              "\n",
              "    .dataframe tbody tr th {\n",
              "        vertical-align: top;\n",
              "    }\n",
              "\n",
              "    .dataframe thead th {\n",
              "        text-align: right;\n",
              "    }\n",
              "</style>\n",
              "<table border=\"1\" class=\"dataframe\">\n",
              "  <thead>\n",
              "    <tr style=\"text-align: right;\">\n",
              "      <th></th>\n",
              "      <th>player_id</th>\n",
              "      <th>flag</th>\n",
              "      <th>cantidad_de_juegos</th>\n",
              "    </tr>\n",
              "  </thead>\n",
              "  <tbody>\n",
              "    <tr>\n",
              "      <th>0</th>\n",
              "      <td>Conducteur59220</td>\n",
              "      <td>FR</td>\n",
              "      <td>2681</td>\n",
              "    </tr>\n",
              "    <tr>\n",
              "      <th>1</th>\n",
              "      <td>dellbox2</td>\n",
              "      <td>JP</td>\n",
              "      <td>1951</td>\n",
              "    </tr>\n",
              "    <tr>\n",
              "      <th>2</th>\n",
              "      <td>AE4WiiU</td>\n",
              "      <td>US</td>\n",
              "      <td>1686</td>\n",
              "    </tr>\n",
              "    <tr>\n",
              "      <th>3</th>\n",
              "      <td>revolv23</td>\n",
              "      <td>FR</td>\n",
              "      <td>1437</td>\n",
              "    </tr>\n",
              "    <tr>\n",
              "      <th>4</th>\n",
              "      <td>demonhunter47223</td>\n",
              "      <td>US</td>\n",
              "      <td>1246</td>\n",
              "    </tr>\n",
              "    <tr>\n",
              "      <th>5</th>\n",
              "      <td>WIIMoustique</td>\n",
              "      <td>FR</td>\n",
              "      <td>1244</td>\n",
              "    </tr>\n",
              "    <tr>\n",
              "      <th>6</th>\n",
              "      <td>buddy1943indiana</td>\n",
              "      <td>US</td>\n",
              "      <td>1242</td>\n",
              "    </tr>\n",
              "    <tr>\n",
              "      <th>7</th>\n",
              "      <td>Plusbellelavie5</td>\n",
              "      <td>FR</td>\n",
              "      <td>1234</td>\n",
              "    </tr>\n",
              "    <tr>\n",
              "      <th>8</th>\n",
              "      <td>Feuxdelamoule</td>\n",
              "      <td>FR</td>\n",
              "      <td>1096</td>\n",
              "    </tr>\n",
              "    <tr>\n",
              "      <th>9</th>\n",
              "      <td>cowboye123</td>\n",
              "      <td>FR</td>\n",
              "      <td>1068</td>\n",
              "    </tr>\n",
              "  </tbody>\n",
              "</table>\n",
              "</div>"
            ],
            "text/plain": [
              "          player_id flag  cantidad_de_juegos\n",
              "0   Conducteur59220   FR                2681\n",
              "1          dellbox2   JP                1951\n",
              "2           AE4WiiU   US                1686\n",
              "3          revolv23   FR                1437\n",
              "4  demonhunter47223   US                1246\n",
              "5      WIIMoustique   FR                1244\n",
              "6  buddy1943indiana   US                1242\n",
              "7   Plusbellelavie5   FR                1234\n",
              "8     Feuxdelamoule   FR                1096\n",
              "9        cowboye123   FR                1068"
            ]
          },
          "metadata": {
            "tags": []
          },
          "execution_count": 24
        }
      ]
    },
    {
      "cell_type": "markdown",
      "metadata": {
        "id": "Y2DB6N0vznG9"
      },
      "source": [
        "# 3. Top 10 mapas con más likes:"
      ]
    },
    {
      "cell_type": "code",
      "metadata": {
        "colab": {
          "base_uri": "https://localhost:8080/",
          "height": 376
        },
        "id": "VJsPFSGvmqA6",
        "outputId": "6e315240-b686-45ed-b1e1-79117d21a6c6"
      },
      "source": [
        "%%sql\n",
        "SELECT id, title, gamestyle ,difficulty, cnt as likes\n",
        "From courses, (SELECT c_id, COUNT(c_id) AS cnt\n",
        "FROM likes\n",
        "GROUP BY c_id) as likesCount\n",
        "Where id = c_id \n",
        "ORDER BY likes DESC\n",
        "Limit 10"
      ],
      "execution_count": null,
      "outputs": [
        {
          "output_type": "stream",
          "text": [
            " * postgresql+psycopg2://@/postgres\n"
          ],
          "name": "stdout"
        },
        {
          "output_type": "execute_result",
          "data": {
            "text/html": [
              "<div>\n",
              "<style scoped>\n",
              "    .dataframe tbody tr th:only-of-type {\n",
              "        vertical-align: middle;\n",
              "    }\n",
              "\n",
              "    .dataframe tbody tr th {\n",
              "        vertical-align: top;\n",
              "    }\n",
              "\n",
              "    .dataframe thead th {\n",
              "        text-align: right;\n",
              "    }\n",
              "</style>\n",
              "<table border=\"1\" class=\"dataframe\">\n",
              "  <thead>\n",
              "    <tr style=\"text-align: right;\">\n",
              "      <th></th>\n",
              "      <th>id</th>\n",
              "      <th>title</th>\n",
              "      <th>gamestyle</th>\n",
              "      <th>difficulty</th>\n",
              "      <th>likes</th>\n",
              "    </tr>\n",
              "  </thead>\n",
              "  <tbody>\n",
              "    <tr>\n",
              "      <th>0</th>\n",
              "      <td>DE4D-0000-035D-3AE1</td>\n",
              "      <td>[2YMM] Spiny Side Down</td>\n",
              "      <td>marioBros</td>\n",
              "      <td>superExpert</td>\n",
              "      <td>462</td>\n",
              "    </tr>\n",
              "    <tr>\n",
              "      <th>1</th>\n",
              "      <td>CEB8-0000-0353-A31E</td>\n",
              "      <td>Tricky House #1: Spring Time</td>\n",
              "      <td>marioWorld</td>\n",
              "      <td>superExpert</td>\n",
              "      <td>329</td>\n",
              "    </tr>\n",
              "    <tr>\n",
              "      <th>2</th>\n",
              "      <td>BAC8-0000-036A-7EE1</td>\n",
              "      <td>[2YMM] Ode to Odyssey</td>\n",
              "      <td>marioBros</td>\n",
              "      <td>normal</td>\n",
              "      <td>322</td>\n",
              "    </tr>\n",
              "    <tr>\n",
              "      <th>3</th>\n",
              "      <td>5AB9-0000-038F-A23E</td>\n",
              "      <td>[Quiz] Look Picture, Choose Item</td>\n",
              "      <td>marioBros3</td>\n",
              "      <td>normal</td>\n",
              "      <td>316</td>\n",
              "    </tr>\n",
              "    <tr>\n",
              "      <th>4</th>\n",
              "      <td>F44D-0000-035E-496C</td>\n",
              "      <td>[2YMM] In Muris Occulta</td>\n",
              "      <td>marioBros</td>\n",
              "      <td>expert</td>\n",
              "      <td>313</td>\n",
              "    </tr>\n",
              "    <tr>\n",
              "      <th>5</th>\n",
              "      <td>9C75-0000-0362-33D2</td>\n",
              "      <td>[2YMM] Pipe Connection Issues</td>\n",
              "      <td>marioWorld</td>\n",
              "      <td>expert</td>\n",
              "      <td>287</td>\n",
              "    </tr>\n",
              "    <tr>\n",
              "      <th>6</th>\n",
              "      <td>67CF-0000-035F-BC1D</td>\n",
              "      <td>The Kindly Marked Troll Level</td>\n",
              "      <td>marioBros</td>\n",
              "      <td>expert</td>\n",
              "      <td>270</td>\n",
              "    </tr>\n",
              "    <tr>\n",
              "      <th>7</th>\n",
              "      <td>A4E1-0000-038D-0EBC</td>\n",
              "      <td>Marios secret Trainingsparcours</td>\n",
              "      <td>marioWorld</td>\n",
              "      <td>normal</td>\n",
              "      <td>268</td>\n",
              "    </tr>\n",
              "    <tr>\n",
              "      <th>8</th>\n",
              "      <td>CBB0-0000-0329-CA7C</td>\n",
              "      <td>Barb Wired</td>\n",
              "      <td>marioBros</td>\n",
              "      <td>superExpert</td>\n",
              "      <td>253</td>\n",
              "    </tr>\n",
              "    <tr>\n",
              "      <th>9</th>\n",
              "      <td>345E-0000-034A-976E</td>\n",
              "      <td>Pokémon - VS Champion Red♪</td>\n",
              "      <td>marioBros</td>\n",
              "      <td>superExpert</td>\n",
              "      <td>234</td>\n",
              "    </tr>\n",
              "  </tbody>\n",
              "</table>\n",
              "</div>"
            ],
            "text/plain": [
              "                    id                             title  ...   difficulty likes\n",
              "0  DE4D-0000-035D-3AE1            [2YMM] Spiny Side Down  ...  superExpert   462\n",
              "1  CEB8-0000-0353-A31E      Tricky House #1: Spring Time  ...  superExpert   329\n",
              "2  BAC8-0000-036A-7EE1             [2YMM] Ode to Odyssey  ...       normal   322\n",
              "3  5AB9-0000-038F-A23E  [Quiz] Look Picture, Choose Item  ...       normal   316\n",
              "4  F44D-0000-035E-496C           [2YMM] In Muris Occulta  ...       expert   313\n",
              "5  9C75-0000-0362-33D2     [2YMM] Pipe Connection Issues  ...       expert   287\n",
              "6  67CF-0000-035F-BC1D     The Kindly Marked Troll Level  ...       expert   270\n",
              "7  A4E1-0000-038D-0EBC   Marios secret Trainingsparcours  ...       normal   268\n",
              "8  CBB0-0000-0329-CA7C                        Barb Wired  ...  superExpert   253\n",
              "9  345E-0000-034A-976E        Pokémon - VS Champion Red♪  ...  superExpert   234\n",
              "\n",
              "[10 rows x 5 columns]"
            ]
          },
          "metadata": {
            "tags": []
          },
          "execution_count": 25
        }
      ]
    },
    {
      "cell_type": "markdown",
      "metadata": {
        "id": "zA_mjm9Sz8Sp"
      },
      "source": [
        "# 4. Número de creadores de mapas superExpert que juegan mapas superExpert:"
      ]
    },
    {
      "cell_type": "code",
      "metadata": {
        "colab": {
          "base_uri": "https://localhost:8080/",
          "height": 97
        },
        "id": "hdji6RBKuDIk",
        "outputId": "d2d8a7ca-f180-4359-af83-b23c511d706b"
      },
      "source": [
        "%%sql\n",
        "Select count(maker)\n",
        "from (Select distinct maker from courses where difficulty = 'superExpert'\n",
        "INTERSECT\n",
        "SELECT p_id From courses, plays Where id = c_id and difficulty = 'superExpert')as tabla"
      ],
      "execution_count": null,
      "outputs": [
        {
          "output_type": "stream",
          "text": [
            " * postgresql+psycopg2://@/postgres\n"
          ],
          "name": "stdout"
        },
        {
          "output_type": "execute_result",
          "data": {
            "text/html": [
              "<div>\n",
              "<style scoped>\n",
              "    .dataframe tbody tr th:only-of-type {\n",
              "        vertical-align: middle;\n",
              "    }\n",
              "\n",
              "    .dataframe tbody tr th {\n",
              "        vertical-align: top;\n",
              "    }\n",
              "\n",
              "    .dataframe thead th {\n",
              "        text-align: right;\n",
              "    }\n",
              "</style>\n",
              "<table border=\"1\" class=\"dataframe\">\n",
              "  <thead>\n",
              "    <tr style=\"text-align: right;\">\n",
              "      <th></th>\n",
              "      <th>count</th>\n",
              "    </tr>\n",
              "  </thead>\n",
              "  <tbody>\n",
              "    <tr>\n",
              "      <th>0</th>\n",
              "      <td>1348</td>\n",
              "    </tr>\n",
              "  </tbody>\n",
              "</table>\n",
              "</div>"
            ],
            "text/plain": [
              "   count\n",
              "0   1348"
            ]
          },
          "metadata": {
            "tags": []
          },
          "execution_count": 26
        }
      ]
    },
    {
      "cell_type": "markdown",
      "metadata": {
        "id": "IMLTzfa30mBc"
      },
      "source": [
        "# 5. Top 10 cantidad de récords por la bandera que tienen seleccionada los jugadores:"
      ]
    },
    {
      "cell_type": "code",
      "metadata": {
        "colab": {
          "base_uri": "https://localhost:8080/",
          "height": 376
        },
        "id": "R__Q4j5sySyD",
        "outputId": "bef946f5-c7dd-4a17-f1ac-7d4438b9f90f"
      },
      "source": [
        "%%sql\n",
        "Select flag, count(flag) as Cantidad_Records\n",
        "from (Select id, flag, timerecord from players, records where id = p_id) as tabla\n",
        "group by flag\n",
        "order by Cantidad_Records DESC Limit 10"
      ],
      "execution_count": null,
      "outputs": [
        {
          "output_type": "stream",
          "text": [
            " * postgresql+psycopg2://@/postgres\n"
          ],
          "name": "stdout"
        },
        {
          "output_type": "execute_result",
          "data": {
            "text/html": [
              "<div>\n",
              "<style scoped>\n",
              "    .dataframe tbody tr th:only-of-type {\n",
              "        vertical-align: middle;\n",
              "    }\n",
              "\n",
              "    .dataframe tbody tr th {\n",
              "        vertical-align: top;\n",
              "    }\n",
              "\n",
              "    .dataframe thead th {\n",
              "        text-align: right;\n",
              "    }\n",
              "</style>\n",
              "<table border=\"1\" class=\"dataframe\">\n",
              "  <thead>\n",
              "    <tr style=\"text-align: right;\">\n",
              "      <th></th>\n",
              "      <th>flag</th>\n",
              "      <th>cantidad_records</th>\n",
              "    </tr>\n",
              "  </thead>\n",
              "  <tbody>\n",
              "    <tr>\n",
              "      <th>0</th>\n",
              "      <td>US</td>\n",
              "      <td>36733</td>\n",
              "    </tr>\n",
              "    <tr>\n",
              "      <th>1</th>\n",
              "      <td>JP</td>\n",
              "      <td>31449</td>\n",
              "    </tr>\n",
              "    <tr>\n",
              "      <th>2</th>\n",
              "      <td>FR</td>\n",
              "      <td>11117</td>\n",
              "    </tr>\n",
              "    <tr>\n",
              "      <th>3</th>\n",
              "      <td>DE</td>\n",
              "      <td>8915</td>\n",
              "    </tr>\n",
              "    <tr>\n",
              "      <th>4</th>\n",
              "      <td>CA</td>\n",
              "      <td>6980</td>\n",
              "    </tr>\n",
              "    <tr>\n",
              "      <th>5</th>\n",
              "      <td>MX</td>\n",
              "      <td>4483</td>\n",
              "    </tr>\n",
              "    <tr>\n",
              "      <th>6</th>\n",
              "      <td>GB</td>\n",
              "      <td>4070</td>\n",
              "    </tr>\n",
              "    <tr>\n",
              "      <th>7</th>\n",
              "      <td>ES</td>\n",
              "      <td>2446</td>\n",
              "    </tr>\n",
              "    <tr>\n",
              "      <th>8</th>\n",
              "      <td>NL</td>\n",
              "      <td>1387</td>\n",
              "    </tr>\n",
              "    <tr>\n",
              "      <th>9</th>\n",
              "      <td>AU</td>\n",
              "      <td>1278</td>\n",
              "    </tr>\n",
              "  </tbody>\n",
              "</table>\n",
              "</div>"
            ],
            "text/plain": [
              "  flag  cantidad_records\n",
              "0   US             36733\n",
              "1   JP             31449\n",
              "2   FR             11117\n",
              "3   DE              8915\n",
              "4   CA              6980\n",
              "5   MX              4483\n",
              "6   GB              4070\n",
              "7   ES              2446\n",
              "8   NL              1387\n",
              "9   AU              1278"
            ]
          },
          "metadata": {
            "tags": []
          },
          "execution_count": 27
        }
      ]
    },
    {
      "cell_type": "markdown",
      "metadata": {
        "id": "D-U_0JYf01Ud"
      },
      "source": [
        "# 6. Número de jugadores que crean mapas y han sido el primero en hacer un clear en algún mapa:"
      ]
    },
    {
      "cell_type": "code",
      "metadata": {
        "colab": {
          "base_uri": "https://localhost:8080/",
          "height": 97
        },
        "id": "HamTqtW42E8B",
        "outputId": "dde5712c-a486-40f1-c352-7044591bd23d"
      },
      "source": [
        "%%sql\n",
        "Select count(makerAndFirst) from(\n",
        "SELECT distinct firstclear as makerAndFirst FROM coursesMeta\n",
        "INTERSECT\n",
        "Select distinct maker from courses) as tabla"
      ],
      "execution_count": null,
      "outputs": [
        {
          "output_type": "stream",
          "text": [
            " * postgresql+psycopg2://@/postgres\n"
          ],
          "name": "stdout"
        },
        {
          "output_type": "execute_result",
          "data": {
            "text/html": [
              "<div>\n",
              "<style scoped>\n",
              "    .dataframe tbody tr th:only-of-type {\n",
              "        vertical-align: middle;\n",
              "    }\n",
              "\n",
              "    .dataframe tbody tr th {\n",
              "        vertical-align: top;\n",
              "    }\n",
              "\n",
              "    .dataframe thead th {\n",
              "        text-align: right;\n",
              "    }\n",
              "</style>\n",
              "<table border=\"1\" class=\"dataframe\">\n",
              "  <thead>\n",
              "    <tr style=\"text-align: right;\">\n",
              "      <th></th>\n",
              "      <th>count</th>\n",
              "    </tr>\n",
              "  </thead>\n",
              "  <tbody>\n",
              "    <tr>\n",
              "      <th>0</th>\n",
              "      <td>7631</td>\n",
              "    </tr>\n",
              "  </tbody>\n",
              "</table>\n",
              "</div>"
            ],
            "text/plain": [
              "   count\n",
              "0   7631"
            ]
          },
          "metadata": {
            "tags": []
          },
          "execution_count": 28
        }
      ]
    },
    {
      "cell_type": "markdown",
      "metadata": {
        "id": "3PWOKrHs1EdX"
      },
      "source": [
        "# 7. Número de mapas que contienen \"mario\" en su título:"
      ]
    },
    {
      "cell_type": "code",
      "metadata": {
        "colab": {
          "base_uri": "https://localhost:8080/",
          "height": 97
        },
        "id": "O585OMvx3oEl",
        "outputId": "3f638e47-97e7-42a1-d626-053377b03c84"
      },
      "source": [
        "%%sql\n",
        "select count(title) from courses where title like '%mario%' or title like '%Mario%' or title like '%MARIO%'"
      ],
      "execution_count": null,
      "outputs": [
        {
          "output_type": "stream",
          "text": [
            " * postgresql+psycopg2://@/postgres\n"
          ],
          "name": "stdout"
        },
        {
          "output_type": "execute_result",
          "data": {
            "text/html": [
              "<div>\n",
              "<style scoped>\n",
              "    .dataframe tbody tr th:only-of-type {\n",
              "        vertical-align: middle;\n",
              "    }\n",
              "\n",
              "    .dataframe tbody tr th {\n",
              "        vertical-align: top;\n",
              "    }\n",
              "\n",
              "    .dataframe thead th {\n",
              "        text-align: right;\n",
              "    }\n",
              "</style>\n",
              "<table border=\"1\" class=\"dataframe\">\n",
              "  <thead>\n",
              "    <tr style=\"text-align: right;\">\n",
              "      <th></th>\n",
              "      <th>count</th>\n",
              "    </tr>\n",
              "  </thead>\n",
              "  <tbody>\n",
              "    <tr>\n",
              "      <th>0</th>\n",
              "      <td>7735</td>\n",
              "    </tr>\n",
              "  </tbody>\n",
              "</table>\n",
              "</div>"
            ],
            "text/plain": [
              "   count\n",
              "0   7735"
            ]
          },
          "metadata": {
            "tags": []
          },
          "execution_count": 29
        }
      ]
    },
    {
      "cell_type": "markdown",
      "metadata": {
        "id": "ynE5MVtC1Vfa"
      },
      "source": [
        "# 8. Cantidad de personas que tienen id y nombre iguales"
      ]
    },
    {
      "cell_type": "code",
      "metadata": {
        "colab": {
          "base_uri": "https://localhost:8080/",
          "height": 97
        },
        "id": "KFcxH9_izqn9",
        "outputId": "cf8798c4-cd79-495d-e56f-9bf416141179"
      },
      "source": [
        "%%sql\n",
        "select count(id) from players where id = name"
      ],
      "execution_count": null,
      "outputs": [
        {
          "output_type": "stream",
          "text": [
            " * postgresql+psycopg2://@/postgres\n"
          ],
          "name": "stdout"
        },
        {
          "output_type": "execute_result",
          "data": {
            "text/html": [
              "<div>\n",
              "<style scoped>\n",
              "    .dataframe tbody tr th:only-of-type {\n",
              "        vertical-align: middle;\n",
              "    }\n",
              "\n",
              "    .dataframe tbody tr th {\n",
              "        vertical-align: top;\n",
              "    }\n",
              "\n",
              "    .dataframe thead th {\n",
              "        text-align: right;\n",
              "    }\n",
              "</style>\n",
              "<table border=\"1\" class=\"dataframe\">\n",
              "  <thead>\n",
              "    <tr style=\"text-align: right;\">\n",
              "      <th></th>\n",
              "      <th>count</th>\n",
              "    </tr>\n",
              "  </thead>\n",
              "  <tbody>\n",
              "    <tr>\n",
              "      <th>0</th>\n",
              "      <td>18189</td>\n",
              "    </tr>\n",
              "  </tbody>\n",
              "</table>\n",
              "</div>"
            ],
            "text/plain": [
              "   count\n",
              "0  18189"
            ]
          },
          "metadata": {
            "tags": []
          },
          "execution_count": 30
        }
      ]
    },
    {
      "cell_type": "markdown",
      "metadata": {
        "id": "6AztzReI6yI4"
      },
      "source": [
        "# 9. Top 10 creadores de mapas con más likes en sus mapas:"
      ]
    },
    {
      "cell_type": "code",
      "metadata": {
        "colab": {
          "base_uri": "https://localhost:8080/",
          "height": 376
        },
        "id": "_G3IVGEn6xuh",
        "outputId": "75e656f4-1d82-4248-bcf3-8ded48aec1ce"
      },
      "source": [
        "%%sql\n",
        "select maker, count(likes) as likes_obtenidos from courses, likes where id= c_id group by maker order by likes_obtenidos desc limit 10"
      ],
      "execution_count": null,
      "outputs": [
        {
          "output_type": "stream",
          "text": [
            " * postgresql+psycopg2://@/postgres\n"
          ],
          "name": "stdout"
        },
        {
          "output_type": "execute_result",
          "data": {
            "text/html": [
              "<div>\n",
              "<style scoped>\n",
              "    .dataframe tbody tr th:only-of-type {\n",
              "        vertical-align: middle;\n",
              "    }\n",
              "\n",
              "    .dataframe tbody tr th {\n",
              "        vertical-align: top;\n",
              "    }\n",
              "\n",
              "    .dataframe thead th {\n",
              "        text-align: right;\n",
              "    }\n",
              "</style>\n",
              "<table border=\"1\" class=\"dataframe\">\n",
              "  <thead>\n",
              "    <tr style=\"text-align: right;\">\n",
              "      <th></th>\n",
              "      <th>maker</th>\n",
              "      <th>likes_obtenidos</th>\n",
              "    </tr>\n",
              "  </thead>\n",
              "  <tbody>\n",
              "    <tr>\n",
              "      <th>0</th>\n",
              "      <td>Monkeydelphin173</td>\n",
              "      <td>7086</td>\n",
              "    </tr>\n",
              "    <tr>\n",
              "      <th>1</th>\n",
              "      <td>Leeshino</td>\n",
              "      <td>6330</td>\n",
              "    </tr>\n",
              "    <tr>\n",
              "      <th>2</th>\n",
              "      <td>Xavierol69</td>\n",
              "      <td>6104</td>\n",
              "    </tr>\n",
              "    <tr>\n",
              "      <th>3</th>\n",
              "      <td>quentintheret</td>\n",
              "      <td>5969</td>\n",
              "    </tr>\n",
              "    <tr>\n",
              "      <th>4</th>\n",
              "      <td>Tylano64</td>\n",
              "      <td>5367</td>\n",
              "    </tr>\n",
              "    <tr>\n",
              "      <th>5</th>\n",
              "      <td>N-Player2.0</td>\n",
              "      <td>4278</td>\n",
              "    </tr>\n",
              "    <tr>\n",
              "      <th>6</th>\n",
              "      <td>lukengl</td>\n",
              "      <td>4248</td>\n",
              "    </tr>\n",
              "    <tr>\n",
              "      <th>7</th>\n",
              "      <td>NicoPrevoNin10do</td>\n",
              "      <td>4240</td>\n",
              "    </tr>\n",
              "    <tr>\n",
              "      <th>8</th>\n",
              "      <td>Feuxdelamoule</td>\n",
              "      <td>4238</td>\n",
              "    </tr>\n",
              "    <tr>\n",
              "      <th>9</th>\n",
              "      <td>Handrick</td>\n",
              "      <td>4235</td>\n",
              "    </tr>\n",
              "  </tbody>\n",
              "</table>\n",
              "</div>"
            ],
            "text/plain": [
              "              maker  likes_obtenidos\n",
              "0  Monkeydelphin173             7086\n",
              "1          Leeshino             6330\n",
              "2        Xavierol69             6104\n",
              "3     quentintheret             5969\n",
              "4          Tylano64             5367\n",
              "5       N-Player2.0             4278\n",
              "6           lukengl             4248\n",
              "7  NicoPrevoNin10do             4240\n",
              "8     Feuxdelamoule             4238\n",
              "9          Handrick             4235"
            ]
          },
          "metadata": {
            "tags": []
          },
          "execution_count": 31
        }
      ]
    },
    {
      "cell_type": "markdown",
      "metadata": {
        "id": "hVumUOgG1gYG"
      },
      "source": [
        "# 10. Top 10 de jugadores con más récords:"
      ]
    },
    {
      "cell_type": "code",
      "metadata": {
        "colab": {
          "base_uri": "https://localhost:8080/",
          "height": 376
        },
        "id": "rPip0g0F1inA",
        "outputId": "b30dbe82-c874-4a04-84ff-1dc9f59ec7b1"
      },
      "source": [
        "%%sql\n",
        "select id as player_id, flag, count(id) as records from players, records where id=p_id\n",
        "group by id order by records desc limit 10  "
      ],
      "execution_count": null,
      "outputs": [
        {
          "output_type": "stream",
          "text": [
            " * postgresql+psycopg2://@/postgres\n"
          ],
          "name": "stdout"
        },
        {
          "output_type": "execute_result",
          "data": {
            "text/html": [
              "<div>\n",
              "<style scoped>\n",
              "    .dataframe tbody tr th:only-of-type {\n",
              "        vertical-align: middle;\n",
              "    }\n",
              "\n",
              "    .dataframe tbody tr th {\n",
              "        vertical-align: top;\n",
              "    }\n",
              "\n",
              "    .dataframe thead th {\n",
              "        text-align: right;\n",
              "    }\n",
              "</style>\n",
              "<table border=\"1\" class=\"dataframe\">\n",
              "  <thead>\n",
              "    <tr style=\"text-align: right;\">\n",
              "      <th></th>\n",
              "      <th>player_id</th>\n",
              "      <th>flag</th>\n",
              "      <th>records</th>\n",
              "    </tr>\n",
              "  </thead>\n",
              "  <tbody>\n",
              "    <tr>\n",
              "      <th>0</th>\n",
              "      <td>AE4WiiU</td>\n",
              "      <td>US</td>\n",
              "      <td>1323</td>\n",
              "    </tr>\n",
              "    <tr>\n",
              "      <th>1</th>\n",
              "      <td>dellbox2</td>\n",
              "      <td>JP</td>\n",
              "      <td>1270</td>\n",
              "    </tr>\n",
              "    <tr>\n",
              "      <th>2</th>\n",
              "      <td>revolv23</td>\n",
              "      <td>FR</td>\n",
              "      <td>761</td>\n",
              "    </tr>\n",
              "    <tr>\n",
              "      <th>3</th>\n",
              "      <td>Tylano64</td>\n",
              "      <td>FR</td>\n",
              "      <td>610</td>\n",
              "    </tr>\n",
              "    <tr>\n",
              "      <th>4</th>\n",
              "      <td>shinbu-10</td>\n",
              "      <td>JP</td>\n",
              "      <td>547</td>\n",
              "    </tr>\n",
              "    <tr>\n",
              "      <th>5</th>\n",
              "      <td>507039</td>\n",
              "      <td>JP</td>\n",
              "      <td>514</td>\n",
              "    </tr>\n",
              "    <tr>\n",
              "      <th>6</th>\n",
              "      <td>Gorfan</td>\n",
              "      <td>FR</td>\n",
              "      <td>417</td>\n",
              "    </tr>\n",
              "    <tr>\n",
              "      <th>7</th>\n",
              "      <td>Mario1UPkoopa</td>\n",
              "      <td>US</td>\n",
              "      <td>404</td>\n",
              "    </tr>\n",
              "    <tr>\n",
              "      <th>8</th>\n",
              "      <td>okayan3378</td>\n",
              "      <td>JP</td>\n",
              "      <td>388</td>\n",
              "    </tr>\n",
              "    <tr>\n",
              "      <th>9</th>\n",
              "      <td>Dinghy2</td>\n",
              "      <td>CA</td>\n",
              "      <td>351</td>\n",
              "    </tr>\n",
              "  </tbody>\n",
              "</table>\n",
              "</div>"
            ],
            "text/plain": [
              "       player_id flag  records\n",
              "0        AE4WiiU   US     1323\n",
              "1       dellbox2   JP     1270\n",
              "2       revolv23   FR      761\n",
              "3       Tylano64   FR      610\n",
              "4      shinbu-10   JP      547\n",
              "5         507039   JP      514\n",
              "6         Gorfan   FR      417\n",
              "7  Mario1UPkoopa   US      404\n",
              "8     okayan3378   JP      388\n",
              "9        Dinghy2   CA      351"
            ]
          },
          "metadata": {
            "tags": []
          },
          "execution_count": 32
        }
      ]
    },
    {
      "cell_type": "markdown",
      "metadata": {
        "id": "R33ehZJd1yxL"
      },
      "source": [
        "# 11. Cantidad de veces jugadas, cantidad de mapas y likes de cada dificultad:"
      ]
    },
    {
      "cell_type": "code",
      "metadata": {
        "colab": {
          "base_uri": "https://localhost:8080/",
          "height": 190
        },
        "id": "w1l-Q5LA14ty",
        "outputId": "2b11172b-363b-41ec-d90c-01bd0b0f19ec"
      },
      "source": [
        "%%sql \n",
        "select difficulty, count as CantidadMapas, VecesJugado, likes, (cast(likes as real)/count) as ratiolikes, (cast(VecesJugado as real)/count) as ratiodejuego from\n",
        "(Select difficulty as d1, count(difficulty) from courses group by difficulty) as tabla1, \n",
        "(select difficulty, count(id) as likes from likes, courses where c_id = id group by difficulty) as tabla2,\n",
        "(select difficulty as d2, count(id) as VecesJugado from plays, courses where c_id = id group by difficulty) as tabla3\n",
        "where d1=difficulty and d2=difficulty"
      ],
      "execution_count": null,
      "outputs": [
        {
          "output_type": "stream",
          "text": [
            " * postgresql+psycopg2://@/postgres\n"
          ],
          "name": "stdout"
        },
        {
          "output_type": "execute_result",
          "data": {
            "text/html": [
              "<div>\n",
              "<style scoped>\n",
              "    .dataframe tbody tr th:only-of-type {\n",
              "        vertical-align: middle;\n",
              "    }\n",
              "\n",
              "    .dataframe tbody tr th {\n",
              "        vertical-align: top;\n",
              "    }\n",
              "\n",
              "    .dataframe thead th {\n",
              "        text-align: right;\n",
              "    }\n",
              "</style>\n",
              "<table border=\"1\" class=\"dataframe\">\n",
              "  <thead>\n",
              "    <tr style=\"text-align: right;\">\n",
              "      <th></th>\n",
              "      <th>difficulty</th>\n",
              "      <th>cantidadmapas</th>\n",
              "      <th>vecesjugado</th>\n",
              "      <th>likes</th>\n",
              "      <th>ratiolikes</th>\n",
              "      <th>ratiodejuego</th>\n",
              "    </tr>\n",
              "  </thead>\n",
              "  <tbody>\n",
              "    <tr>\n",
              "      <th>0</th>\n",
              "      <td>easy</td>\n",
              "      <td>29692</td>\n",
              "      <td>872472</td>\n",
              "      <td>127948</td>\n",
              "      <td>4.309174</td>\n",
              "      <td>29.384077</td>\n",
              "    </tr>\n",
              "    <tr>\n",
              "      <th>1</th>\n",
              "      <td>expert</td>\n",
              "      <td>27753</td>\n",
              "      <td>997645</td>\n",
              "      <td>146866</td>\n",
              "      <td>5.291896</td>\n",
              "      <td>35.947285</td>\n",
              "    </tr>\n",
              "    <tr>\n",
              "      <th>2</th>\n",
              "      <td>normal</td>\n",
              "      <td>51354</td>\n",
              "      <td>1725429</td>\n",
              "      <td>252969</td>\n",
              "      <td>4.925984</td>\n",
              "      <td>33.598726</td>\n",
              "    </tr>\n",
              "    <tr>\n",
              "      <th>3</th>\n",
              "      <td>superExpert</td>\n",
              "      <td>6233</td>\n",
              "      <td>345832</td>\n",
              "      <td>90904</td>\n",
              "      <td>14.584309</td>\n",
              "      <td>55.484037</td>\n",
              "    </tr>\n",
              "  </tbody>\n",
              "</table>\n",
              "</div>"
            ],
            "text/plain": [
              "    difficulty  cantidadmapas  vecesjugado   likes  ratiolikes  ratiodejuego\n",
              "0         easy          29692       872472  127948    4.309174     29.384077\n",
              "1       expert          27753       997645  146866    5.291896     35.947285\n",
              "2       normal          51354      1725429  252969    4.925984     33.598726\n",
              "3  superExpert           6233       345832   90904   14.584309     55.484037"
            ]
          },
          "metadata": {
            "tags": []
          },
          "execution_count": 33
        }
      ]
    },
    {
      "cell_type": "markdown",
      "metadata": {
        "id": "w2svx6uU1-ee"
      },
      "source": [
        "# 12. Cantidad de veces jugadas, cantidad de mapas y likes de cada gamestyle:"
      ]
    },
    {
      "cell_type": "code",
      "metadata": {
        "colab": {
          "base_uri": "https://localhost:8080/",
          "height": 190
        },
        "id": "IDboSrRp2Cj9",
        "outputId": "ab75b9d3-c97c-40a7-c419-ef51c755928c"
      },
      "source": [
        "%%sql\n",
        "select gamestyle, cantidadmapas, vecesjugado, likes, (cast(likes as real)/cantidadmapas) as ratiolikes, (cast(vecesjugado as real)/cantidadmapas) as ratiodejuego from (\n",
        "select gamestyle, count(id) as vecesjugado from plays, courses where c_id = id group by gamestyle) as tabla1,\n",
        "(select gamestyle as g1, count(id) as likes from likes, courses where c_id = id group by gamestyle) as tabla2,\n",
        "(Select gamestyle as g2, count(id) as cantidadmapas from courses group by gamestyle) as tabla3\n",
        "where g1 = gamestyle and g2 = gamestyle\n"
      ],
      "execution_count": null,
      "outputs": [
        {
          "output_type": "stream",
          "text": [
            " * postgresql+psycopg2://@/postgres\n"
          ],
          "name": "stdout"
        },
        {
          "output_type": "execute_result",
          "data": {
            "text/html": [
              "<div>\n",
              "<style scoped>\n",
              "    .dataframe tbody tr th:only-of-type {\n",
              "        vertical-align: middle;\n",
              "    }\n",
              "\n",
              "    .dataframe tbody tr th {\n",
              "        vertical-align: top;\n",
              "    }\n",
              "\n",
              "    .dataframe thead th {\n",
              "        text-align: right;\n",
              "    }\n",
              "</style>\n",
              "<table border=\"1\" class=\"dataframe\">\n",
              "  <thead>\n",
              "    <tr style=\"text-align: right;\">\n",
              "      <th></th>\n",
              "      <th>gamestyle</th>\n",
              "      <th>cantidadmapas</th>\n",
              "      <th>vecesjugado</th>\n",
              "      <th>likes</th>\n",
              "      <th>ratiolikes</th>\n",
              "      <th>ratiodejuego</th>\n",
              "    </tr>\n",
              "  </thead>\n",
              "  <tbody>\n",
              "    <tr>\n",
              "      <th>0</th>\n",
              "      <td>marioBros</td>\n",
              "      <td>24342</td>\n",
              "      <td>848403</td>\n",
              "      <td>153551</td>\n",
              "      <td>6.308068</td>\n",
              "      <td>34.853463</td>\n",
              "    </tr>\n",
              "    <tr>\n",
              "      <th>1</th>\n",
              "      <td>marioBros3</td>\n",
              "      <td>9318</td>\n",
              "      <td>343125</td>\n",
              "      <td>65343</td>\n",
              "      <td>7.012556</td>\n",
              "      <td>36.823889</td>\n",
              "    </tr>\n",
              "    <tr>\n",
              "      <th>2</th>\n",
              "      <td>marioBrosU</td>\n",
              "      <td>59464</td>\n",
              "      <td>1940628</td>\n",
              "      <td>252861</td>\n",
              "      <td>4.252338</td>\n",
              "      <td>32.635342</td>\n",
              "    </tr>\n",
              "    <tr>\n",
              "      <th>3</th>\n",
              "      <td>marioWorld</td>\n",
              "      <td>21908</td>\n",
              "      <td>809222</td>\n",
              "      <td>146932</td>\n",
              "      <td>6.706774</td>\n",
              "      <td>36.937283</td>\n",
              "    </tr>\n",
              "  </tbody>\n",
              "</table>\n",
              "</div>"
            ],
            "text/plain": [
              "    gamestyle  cantidadmapas  vecesjugado   likes  ratiolikes  ratiodejuego\n",
              "0   marioBros          24342       848403  153551    6.308068     34.853463\n",
              "1  marioBros3           9318       343125   65343    7.012556     36.823889\n",
              "2  marioBrosU          59464      1940628  252861    4.252338     32.635342\n",
              "3  marioWorld          21908       809222  146932    6.706774     36.937283"
            ]
          },
          "metadata": {
            "tags": []
          },
          "execution_count": 34
        }
      ]
    },
    {
      "cell_type": "markdown",
      "metadata": {
        "id": "SD72yGGC2Hls"
      },
      "source": [
        "# 13. Cantidad de veces jugadas, cantidad de mapas y likes agrupado en dificultad y gamestyle:"
      ]
    },
    {
      "cell_type": "code",
      "metadata": {
        "colab": {
          "base_uri": "https://localhost:8080/",
          "height": 562
        },
        "id": "q8hQBz8d2Mdu",
        "outputId": "77294de0-1f4f-44ae-c607-07ff826e1ae1"
      },
      "source": [
        "%%sql\n",
        "select difficulty,gamestyle, cantidadmapas, vecesjugado, likes, (cast(likes as real)/cantidadmapas) as ratiolikes, (cast(vecesjugado as real)/cantidadmapas) as ratiodejuego from (\n",
        "select difficulty, gamestyle, count(id) as cantidadmapas from courses group by difficulty, gamestyle) as tabla1,\n",
        "(select difficulty as d1, gamestyle as g1, count(id) as likes from courses, likes where c_id = id group by difficulty, gamestyle) as tabla2,\n",
        "(select difficulty as d2, gamestyle as g2, count(id) as vecesjugado from courses, plays where c_id = id group by difficulty, gamestyle) as tabla3\n",
        "where d1=difficulty and d2=difficulty and g1=gamestyle and g2=gamestyle"
      ],
      "execution_count": null,
      "outputs": [
        {
          "output_type": "stream",
          "text": [
            " * postgresql+psycopg2://@/postgres\n"
          ],
          "name": "stdout"
        },
        {
          "output_type": "execute_result",
          "data": {
            "text/html": [
              "<div>\n",
              "<style scoped>\n",
              "    .dataframe tbody tr th:only-of-type {\n",
              "        vertical-align: middle;\n",
              "    }\n",
              "\n",
              "    .dataframe tbody tr th {\n",
              "        vertical-align: top;\n",
              "    }\n",
              "\n",
              "    .dataframe thead th {\n",
              "        text-align: right;\n",
              "    }\n",
              "</style>\n",
              "<table border=\"1\" class=\"dataframe\">\n",
              "  <thead>\n",
              "    <tr style=\"text-align: right;\">\n",
              "      <th></th>\n",
              "      <th>difficulty</th>\n",
              "      <th>gamestyle</th>\n",
              "      <th>cantidadmapas</th>\n",
              "      <th>vecesjugado</th>\n",
              "      <th>likes</th>\n",
              "      <th>ratiolikes</th>\n",
              "      <th>ratiodejuego</th>\n",
              "    </tr>\n",
              "  </thead>\n",
              "  <tbody>\n",
              "    <tr>\n",
              "      <th>0</th>\n",
              "      <td>easy</td>\n",
              "      <td>marioBros</td>\n",
              "      <td>8369</td>\n",
              "      <td>247878</td>\n",
              "      <td>39280</td>\n",
              "      <td>4.693512</td>\n",
              "      <td>29.618592</td>\n",
              "    </tr>\n",
              "    <tr>\n",
              "      <th>1</th>\n",
              "      <td>easy</td>\n",
              "      <td>marioBros3</td>\n",
              "      <td>1766</td>\n",
              "      <td>55934</td>\n",
              "      <td>10187</td>\n",
              "      <td>5.768403</td>\n",
              "      <td>31.672707</td>\n",
              "    </tr>\n",
              "    <tr>\n",
              "      <th>2</th>\n",
              "      <td>easy</td>\n",
              "      <td>marioBrosU</td>\n",
              "      <td>15925</td>\n",
              "      <td>457609</td>\n",
              "      <td>59491</td>\n",
              "      <td>3.735699</td>\n",
              "      <td>28.735259</td>\n",
              "    </tr>\n",
              "    <tr>\n",
              "      <th>3</th>\n",
              "      <td>easy</td>\n",
              "      <td>marioWorld</td>\n",
              "      <td>3632</td>\n",
              "      <td>111051</td>\n",
              "      <td>18990</td>\n",
              "      <td>5.228524</td>\n",
              "      <td>30.575716</td>\n",
              "    </tr>\n",
              "    <tr>\n",
              "      <th>4</th>\n",
              "      <td>expert</td>\n",
              "      <td>marioBros</td>\n",
              "      <td>4709</td>\n",
              "      <td>178502</td>\n",
              "      <td>31705</td>\n",
              "      <td>6.732852</td>\n",
              "      <td>37.906562</td>\n",
              "    </tr>\n",
              "    <tr>\n",
              "      <th>5</th>\n",
              "      <td>expert</td>\n",
              "      <td>marioBros3</td>\n",
              "      <td>2821</td>\n",
              "      <td>106430</td>\n",
              "      <td>18411</td>\n",
              "      <td>6.526409</td>\n",
              "      <td>37.727756</td>\n",
              "    </tr>\n",
              "    <tr>\n",
              "      <th>6</th>\n",
              "      <td>expert</td>\n",
              "      <td>marioBrosU</td>\n",
              "      <td>12964</td>\n",
              "      <td>447492</td>\n",
              "      <td>54369</td>\n",
              "      <td>4.193844</td>\n",
              "      <td>34.518050</td>\n",
              "    </tr>\n",
              "    <tr>\n",
              "      <th>7</th>\n",
              "      <td>expert</td>\n",
              "      <td>marioWorld</td>\n",
              "      <td>7259</td>\n",
              "      <td>265221</td>\n",
              "      <td>42381</td>\n",
              "      <td>5.838407</td>\n",
              "      <td>36.536851</td>\n",
              "    </tr>\n",
              "    <tr>\n",
              "      <th>8</th>\n",
              "      <td>normal</td>\n",
              "      <td>marioBros</td>\n",
              "      <td>10368</td>\n",
              "      <td>365951</td>\n",
              "      <td>63779</td>\n",
              "      <td>6.151524</td>\n",
              "      <td>35.296200</td>\n",
              "    </tr>\n",
              "    <tr>\n",
              "      <th>9</th>\n",
              "      <td>normal</td>\n",
              "      <td>marioBros3</td>\n",
              "      <td>4164</td>\n",
              "      <td>151067</td>\n",
              "      <td>27241</td>\n",
              "      <td>6.542027</td>\n",
              "      <td>36.279299</td>\n",
              "    </tr>\n",
              "    <tr>\n",
              "      <th>10</th>\n",
              "      <td>normal</td>\n",
              "      <td>marioBrosU</td>\n",
              "      <td>28317</td>\n",
              "      <td>913796</td>\n",
              "      <td>113087</td>\n",
              "      <td>3.993608</td>\n",
              "      <td>32.270226</td>\n",
              "    </tr>\n",
              "    <tr>\n",
              "      <th>11</th>\n",
              "      <td>normal</td>\n",
              "      <td>marioWorld</td>\n",
              "      <td>8505</td>\n",
              "      <td>294615</td>\n",
              "      <td>48862</td>\n",
              "      <td>5.745091</td>\n",
              "      <td>34.640212</td>\n",
              "    </tr>\n",
              "    <tr>\n",
              "      <th>12</th>\n",
              "      <td>superExpert</td>\n",
              "      <td>marioBros</td>\n",
              "      <td>896</td>\n",
              "      <td>56072</td>\n",
              "      <td>18787</td>\n",
              "      <td>20.967634</td>\n",
              "      <td>62.580357</td>\n",
              "    </tr>\n",
              "    <tr>\n",
              "      <th>13</th>\n",
              "      <td>superExpert</td>\n",
              "      <td>marioBros3</td>\n",
              "      <td>567</td>\n",
              "      <td>29694</td>\n",
              "      <td>9504</td>\n",
              "      <td>16.761905</td>\n",
              "      <td>52.370370</td>\n",
              "    </tr>\n",
              "    <tr>\n",
              "      <th>14</th>\n",
              "      <td>superExpert</td>\n",
              "      <td>marioBrosU</td>\n",
              "      <td>2258</td>\n",
              "      <td>121731</td>\n",
              "      <td>25914</td>\n",
              "      <td>11.476528</td>\n",
              "      <td>53.910983</td>\n",
              "    </tr>\n",
              "    <tr>\n",
              "      <th>15</th>\n",
              "      <td>superExpert</td>\n",
              "      <td>marioWorld</td>\n",
              "      <td>2512</td>\n",
              "      <td>138335</td>\n",
              "      <td>36699</td>\n",
              "      <td>14.609475</td>\n",
              "      <td>55.069666</td>\n",
              "    </tr>\n",
              "  </tbody>\n",
              "</table>\n",
              "</div>"
            ],
            "text/plain": [
              "     difficulty   gamestyle  cantidadmapas  ...   likes  ratiolikes  ratiodejuego\n",
              "0          easy   marioBros           8369  ...   39280    4.693512     29.618592\n",
              "1          easy  marioBros3           1766  ...   10187    5.768403     31.672707\n",
              "2          easy  marioBrosU          15925  ...   59491    3.735699     28.735259\n",
              "3          easy  marioWorld           3632  ...   18990    5.228524     30.575716\n",
              "4        expert   marioBros           4709  ...   31705    6.732852     37.906562\n",
              "5        expert  marioBros3           2821  ...   18411    6.526409     37.727756\n",
              "6        expert  marioBrosU          12964  ...   54369    4.193844     34.518050\n",
              "7        expert  marioWorld           7259  ...   42381    5.838407     36.536851\n",
              "8        normal   marioBros          10368  ...   63779    6.151524     35.296200\n",
              "9        normal  marioBros3           4164  ...   27241    6.542027     36.279299\n",
              "10       normal  marioBrosU          28317  ...  113087    3.993608     32.270226\n",
              "11       normal  marioWorld           8505  ...   48862    5.745091     34.640212\n",
              "12  superExpert   marioBros            896  ...   18787   20.967634     62.580357\n",
              "13  superExpert  marioBros3            567  ...    9504   16.761905     52.370370\n",
              "14  superExpert  marioBrosU           2258  ...   25914   11.476528     53.910983\n",
              "15  superExpert  marioWorld           2512  ...   36699   14.609475     55.069666\n",
              "\n",
              "[16 rows x 7 columns]"
            ]
          },
          "metadata": {
            "tags": []
          },
          "execution_count": 35
        }
      ]
    },
    {
      "cell_type": "code",
      "metadata": {
        "colab": {
          "base_uri": "https://localhost:8080/",
          "height": 49
        },
        "id": "mwozqhJiOapF",
        "outputId": "b6cd5224-1efb-4b2f-f9a5-2b9c3c98d4dd"
      },
      "source": [
        "%%sql\n",
        "DROP TABLE IF EXISTS test;\n",
        "Create Table test(\n",
        "    aa varchar(50),\n",
        "    bb varchar(50)\n",
        ");\n",
        "\n"
      ],
      "execution_count": null,
      "outputs": [
        {
          "output_type": "stream",
          "text": [
            " * postgresql+psycopg2://@/postgres\n"
          ],
          "name": "stdout"
        },
        {
          "output_type": "execute_result",
          "data": {
            "text/html": [
              "<div>\n",
              "<style scoped>\n",
              "    .dataframe tbody tr th:only-of-type {\n",
              "        vertical-align: middle;\n",
              "    }\n",
              "\n",
              "    .dataframe tbody tr th {\n",
              "        vertical-align: top;\n",
              "    }\n",
              "\n",
              "    .dataframe thead th {\n",
              "        text-align: right;\n",
              "    }\n",
              "</style>\n",
              "<table border=\"1\" class=\"dataframe\">\n",
              "  <thead>\n",
              "    <tr style=\"text-align: right;\">\n",
              "      <th></th>\n",
              "    </tr>\n",
              "  </thead>\n",
              "  <tbody>\n",
              "  </tbody>\n",
              "</table>\n",
              "</div>"
            ],
            "text/plain": [
              "Empty DataFrame\n",
              "Columns: []\n",
              "Index: []"
            ]
          },
          "metadata": {
            "tags": []
          },
          "execution_count": 7
        }
      ]
    },
    {
      "cell_type": "code",
      "metadata": {
        "colab": {
          "base_uri": "https://localhost:8080/",
          "height": 49
        },
        "id": "kJ57KfWcPWRA",
        "outputId": "7c6860a8-fba4-4f81-c7d1-fed7839b523e"
      },
      "source": [
        "%%sql\n",
        "Insert into test (aa,bb)\n",
        "Values('water','')"
      ],
      "execution_count": null,
      "outputs": [
        {
          "output_type": "stream",
          "text": [
            " * postgresql+psycopg2://@/postgres\n"
          ],
          "name": "stdout"
        },
        {
          "output_type": "execute_result",
          "data": {
            "text/html": [
              "<div>\n",
              "<style scoped>\n",
              "    .dataframe tbody tr th:only-of-type {\n",
              "        vertical-align: middle;\n",
              "    }\n",
              "\n",
              "    .dataframe tbody tr th {\n",
              "        vertical-align: top;\n",
              "    }\n",
              "\n",
              "    .dataframe thead th {\n",
              "        text-align: right;\n",
              "    }\n",
              "</style>\n",
              "<table border=\"1\" class=\"dataframe\">\n",
              "  <thead>\n",
              "    <tr style=\"text-align: right;\">\n",
              "      <th></th>\n",
              "    </tr>\n",
              "  </thead>\n",
              "  <tbody>\n",
              "  </tbody>\n",
              "</table>\n",
              "</div>"
            ],
            "text/plain": [
              "Empty DataFrame\n",
              "Columns: []\n",
              "Index: []"
            ]
          },
          "metadata": {
            "tags": []
          },
          "execution_count": 19
        }
      ]
    },
    {
      "cell_type": "code",
      "metadata": {
        "colab": {
          "base_uri": "https://localhost:8080/",
          "height": 159
        },
        "id": "KD0TuAAIPJn1",
        "outputId": "2648176e-f166-4b8e-dfdf-eee09522f50f"
      },
      "source": [
        "%%sql\n",
        "Select * from test"
      ],
      "execution_count": null,
      "outputs": [
        {
          "output_type": "stream",
          "text": [
            " * postgresql+psycopg2://@/postgres\n"
          ],
          "name": "stdout"
        },
        {
          "output_type": "execute_result",
          "data": {
            "text/html": [
              "<div>\n",
              "<style scoped>\n",
              "    .dataframe tbody tr th:only-of-type {\n",
              "        vertical-align: middle;\n",
              "    }\n",
              "\n",
              "    .dataframe tbody tr th {\n",
              "        vertical-align: top;\n",
              "    }\n",
              "\n",
              "    .dataframe thead th {\n",
              "        text-align: right;\n",
              "    }\n",
              "</style>\n",
              "<table border=\"1\" class=\"dataframe\">\n",
              "  <thead>\n",
              "    <tr style=\"text-align: right;\">\n",
              "      <th></th>\n",
              "      <th>aa</th>\n",
              "      <th>bb</th>\n",
              "    </tr>\n",
              "  </thead>\n",
              "  <tbody>\n",
              "    <tr>\n",
              "      <th>0</th>\n",
              "      <td>grass</td>\n",
              "      <td>water</td>\n",
              "    </tr>\n",
              "    <tr>\n",
              "      <th>1</th>\n",
              "      <td>water</td>\n",
              "      <td>grass</td>\n",
              "    </tr>\n",
              "    <tr>\n",
              "      <th>2</th>\n",
              "      <td>water</td>\n",
              "      <td></td>\n",
              "    </tr>\n",
              "  </tbody>\n",
              "</table>\n",
              "</div>"
            ],
            "text/plain": [
              "      aa     bb\n",
              "0  grass  water\n",
              "1  water  grass\n",
              "2  water       "
            ]
          },
          "metadata": {
            "tags": []
          },
          "execution_count": 20
        }
      ]
    },
    {
      "cell_type": "code",
      "metadata": {
        "colab": {
          "base_uri": "https://localhost:8080/",
          "height": 128
        },
        "id": "dgOAYMzCQAbl",
        "outputId": "dc6a0ae0-c13e-4d6b-f5c3-caa318efeba5"
      },
      "source": [
        "%%sql\n",
        "Select * from test where (aa='water' or bb='grass' or aa='grass' or bb='water') and not bb=''"
      ],
      "execution_count": null,
      "outputs": [
        {
          "output_type": "stream",
          "text": [
            " * postgresql+psycopg2://@/postgres\n"
          ],
          "name": "stdout"
        },
        {
          "output_type": "execute_result",
          "data": {
            "text/html": [
              "<div>\n",
              "<style scoped>\n",
              "    .dataframe tbody tr th:only-of-type {\n",
              "        vertical-align: middle;\n",
              "    }\n",
              "\n",
              "    .dataframe tbody tr th {\n",
              "        vertical-align: top;\n",
              "    }\n",
              "\n",
              "    .dataframe thead th {\n",
              "        text-align: right;\n",
              "    }\n",
              "</style>\n",
              "<table border=\"1\" class=\"dataframe\">\n",
              "  <thead>\n",
              "    <tr style=\"text-align: right;\">\n",
              "      <th></th>\n",
              "      <th>aa</th>\n",
              "      <th>bb</th>\n",
              "    </tr>\n",
              "  </thead>\n",
              "  <tbody>\n",
              "    <tr>\n",
              "      <th>0</th>\n",
              "      <td>grass</td>\n",
              "      <td>water</td>\n",
              "    </tr>\n",
              "    <tr>\n",
              "      <th>1</th>\n",
              "      <td>water</td>\n",
              "      <td>grass</td>\n",
              "    </tr>\n",
              "  </tbody>\n",
              "</table>\n",
              "</div>"
            ],
            "text/plain": [
              "      aa     bb\n",
              "0  grass  water\n",
              "1  water  grass"
            ]
          },
          "metadata": {
            "tags": []
          },
          "execution_count": 26
        }
      ]
    }
  ]
}